{
 "cells": [
  {
   "cell_type": "markdown",
   "metadata": {},
   "source": [
    "> Version: _0.0.3_"
   ]
  },
  {
   "cell_type": "markdown",
   "metadata": {},
   "source": [
    "## Basic Usage\n",
    "\n",
    "`python-hn` is a small library to access [Hacker New's Search API](https://hn.algolia.com/api) powered by [Algolia](https://www.algolia.com).\n",
    "\n",
    "It's designed to be simple to use and pythonic, but also provide the full power of Search API.\n",
    "\n",
    "Install with `pip`:"
   ]
  },
  {
   "cell_type": "code",
   "execution_count": 99,
   "metadata": {},
   "outputs": [
    {
     "name": "stdout",
     "output_type": "stream",
     "text": [
      "Requirement already satisfied: python-hn in /usr/local/lib/python3.6/site-packages (0.0.3)\n",
      "Requirement already satisfied: requests>=2.20 in /usr/local/lib/python3.6/site-packages (from python-hn) (2.20.0)\n",
      "Requirement already satisfied: idna<2.8,>=2.5 in /usr/local/lib/python3.6/site-packages (from requests>=2.20->python-hn) (2.7)\n",
      "Requirement already satisfied: chardet<3.1.0,>=3.0.2 in /usr/local/lib/python3.6/site-packages (from requests>=2.20->python-hn) (3.0.4)\n",
      "Requirement already satisfied: certifi>=2017.4.17 in /usr/local/lib/python3.6/site-packages (from requests>=2.20->python-hn) (2018.10.15)\n",
      "Requirement already satisfied: urllib3<1.25,>=1.21.1 in /usr/local/lib/python3.6/site-packages (from requests>=2.20->python-hn) (1.24.1)\n",
      "\u001b[33mYou are using pip version 18.0, however version 18.1 is available.\n",
      "You should consider upgrading via the 'pip install --upgrade pip' command.\u001b[0m\n"
     ]
    }
   ],
   "source": [
    "!pip install python-hn"
   ]
  },
  {
   "cell_type": "markdown",
   "metadata": {},
   "source": [
    "### Quick example\n",
    "\n",
    "The main function of the library is `search_by_date`, which accepts multiple parameters; among them, is a query string containing the phrase to search for."
   ]
  },
  {
   "cell_type": "code",
   "execution_count": 100,
   "metadata": {},
   "outputs": [],
   "source": [
    "from hn import search_by_date"
   ]
  },
  {
   "cell_type": "code",
   "execution_count": 101,
   "metadata": {},
   "outputs": [],
   "source": [
    "results = search_by_date('python')"
   ]
  },
  {
   "cell_type": "markdown",
   "metadata": {},
   "source": [
    "By default, all the different \"post types\" will be included: stories, comments, polls, etc."
   ]
  },
  {
   "cell_type": "markdown",
   "metadata": {},
   "source": [
    "#### > Util function for prettier outputs:"
   ]
  },
  {
   "cell_type": "code",
   "execution_count": 102,
   "metadata": {},
   "outputs": [],
   "source": [
    "import html\n",
    "import tabulate\n",
    "\n",
    "from itertools import islice\n",
    "from IPython.display import HTML, display\n",
    "\n",
    "\n",
    "def output_results(results, count=None, url=True, post_type=True, text_length=25):\n",
    "    if count:\n",
    "        results = islice(results, count)\n",
    "    lines = []\n",
    "    header = ['ID']\n",
    "    if post_type:\n",
    "        header += ['Post Type']\n",
    "    header += ['Text']\n",
    "    if url:\n",
    "        header += ['URL']\n",
    "\n",
    "    for post in results:\n",
    "        line = [post['objectID']]\n",
    "        if post_type:\n",
    "            line += [post['_tags'][0].title()]\n",
    "        \n",
    "        text = html.unescape(\n",
    "            post['title'] or str(post['comment_text'] or '')[:text_length] + '...')\n",
    "        line += [text]\n",
    "        if url:\n",
    "            link = \"https://news.ycombinator.com/item?id={}\".format(post['objectID'])\n",
    "            line += [f\"<a href={link}>{link}</a>\"]\n",
    "        lines.append(line)\n",
    "    return display(HTML(tabulate.tabulate(lines, headers=header, tablefmt='html')))"
   ]
  },
  {
   "cell_type": "code",
   "execution_count": 103,
   "metadata": {},
   "outputs": [
    {
     "data": {
      "text/html": [
       "<table>\n",
       "<thead>\n",
       "<tr><th style=\"text-align: right;\">      ID</th><th>Post Type  </th><th>Text                                </th><th>URL                                                                                                    </th></tr>\n",
       "</thead>\n",
       "<tbody>\n",
       "<tr><td style=\"text-align: right;\">18608592</td><td>Story      </td><td>MIT AI: Python with Guido van Rossum</td><td><a href=https://news.ycombinator.com/item?id=18608592>https://news.ycombinator.com/item?id=18608592</a></td></tr>\n",
       "<tr><td style=\"text-align: right;\">18608502</td><td>Comment    </td><td>Here's another artic...             </td><td><a href=https://news.ycombinator.com/item?id=18608502>https://news.ycombinator.com/item?id=18608502</a></td></tr>\n",
       "<tr><td style=\"text-align: right;\">18608367</td><td>Comment    </td><td>Mostly Go these days, sti...        </td><td><a href=https://news.ycombinator.com/item?id=18608367>https://news.ycombinator.com/item?id=18608367</a></td></tr>\n",
       "<tr><td style=\"text-align: right;\">18608027</td><td>Comment    </td><td>Beside python has pretty ...        </td><td><a href=https://news.ycombinator.com/item?id=18608027>https://news.ycombinator.com/item?id=18608027</a></td></tr>\n",
       "<tr><td style=\"text-align: right;\">18607997</td><td>Comment    </td><td>High level dynamic langua...        </td><td><a href=https://news.ycombinator.com/item?id=18607997>https://news.ycombinator.com/item?id=18607997</a></td></tr>\n",
       "<tr><td style=\"text-align: right;\">18607971</td><td>Comment    </td><td>Oddly enough, so does Cyt...        </td><td><a href=https://news.ycombinator.com/item?id=18607971>https://news.ycombinator.com/item?id=18607971</a></td></tr>\n",
       "<tr><td style=\"text-align: right;\">18607880</td><td>Comment    </td><td>Yeah I'm mostly comi...             </td><td><a href=https://news.ycombinator.com/item?id=18607880>https://news.ycombinator.com/item?id=18607880</a></td></tr>\n",
       "<tr><td style=\"text-align: right;\">18607831</td><td>Comment    </td><td>Coincidentally I started ...        </td><td><a href=https://news.ycombinator.com/item?id=18607831>https://news.ycombinator.com/item?id=18607831</a></td></tr>\n",
       "<tr><td style=\"text-align: right;\">18607679</td><td>Comment    </td><td>There's a few other ...             </td><td><a href=https://news.ycombinator.com/item?id=18607679>https://news.ycombinator.com/item?id=18607679</a></td></tr>\n",
       "<tr><td style=\"text-align: right;\">18607599</td><td>Comment    </td><td>That's why I use org...             </td><td><a href=https://news.ycombinator.com/item?id=18607599>https://news.ycombinator.com/item?id=18607599</a></td></tr>\n",
       "</tbody>\n",
       "</table>"
      ],
      "text/plain": [
       "<IPython.core.display.HTML object>"
      ]
     },
     "metadata": {},
     "output_type": "display_data"
    }
   ],
   "source": [
    "output_results(results, 10)"
   ]
  },
  {
   "cell_type": "markdown",
   "metadata": {},
   "source": [
    "\n",
    "As you can see, we're receiving both results for stories and comments."
   ]
  },
  {
   "cell_type": "markdown",
   "metadata": {},
   "source": [
    "### Searching by author\n",
    "\n",
    "The second parameter of the `search_by_date` function is the author's username of the post (story or comment). Example:"
   ]
  },
  {
   "cell_type": "code",
   "execution_count": 104,
   "metadata": {},
   "outputs": [],
   "source": [
    "# 'pg' is Paul Graham: https://news.ycombinator.com/user?id=pg\n",
    "results = search_by_date('lisp', 'pg')"
   ]
  },
  {
   "cell_type": "code",
   "execution_count": 105,
   "metadata": {},
   "outputs": [
    {
     "data": {
      "text/html": [
       "<table>\n",
       "<thead>\n",
       "<tr><th style=\"text-align: right;\">     ID</th><th>Post Type  </th><th>Text                                         </th><th>URL                                                                                                  </th></tr>\n",
       "</thead>\n",
       "<tbody>\n",
       "<tr><td style=\"text-align: right;\">7446596</td><td>Comment    </td><td>This was all the code it ...                 </td><td><a href=https://news.ycombinator.com/item?id=7446596>https://news.ycombinator.com/item?id=7446596</a></td></tr>\n",
       "<tr><td style=\"text-align: right;\">7261591</td><td>Story      </td><td>Source of the recent outagelet               </td><td><a href=https://news.ycombinator.com/item?id=7261591>https://news.ycombinator.com/item?id=7261591</a></td></tr>\n",
       "<tr><td style=\"text-align: right;\">7128860</td><td>Comment    </td><td>Why doesn't the arti...                      </td><td><a href=https://news.ycombinator.com/item?id=7128860>https://news.ycombinator.com/item?id=7128860</a></td></tr>\n",
       "<tr><td style=\"text-align: right;\">6705398</td><td>Comment    </td><td>I thought this would be a...                 </td><td><a href=https://news.ycombinator.com/item?id=6705398>https://news.ycombinator.com/item?id=6705398</a></td></tr>\n",
       "<tr><td style=\"text-align: right;\">6557282</td><td>Comment    </td><td>Has \"Lisp hacker&quo...                      </td><td><a href=https://news.ycombinator.com/item?id=6557282>https://news.ycombinator.com/item?id=6557282</a></td></tr>\n",
       "<tr><td style=\"text-align: right;\">6400769</td><td>Comment    </td><td>It's a real person. ...                      </td><td><a href=https://news.ycombinator.com/item?id=6400769>https://news.ycombinator.com/item?id=6400769</a></td></tr>\n",
       "<tr><td style=\"text-align: right;\">6210178</td><td>Comment    </td><td>Wow is this list good.  I...                 </td><td><a href=https://news.ycombinator.com/item?id=6210178>https://news.ycombinator.com/item?id=6210178</a></td></tr>\n",
       "<tr><td style=\"text-align: right;\">5575255</td><td>Story      </td><td>Danny Sullivan's Twitter list about Watertown</td><td><a href=https://news.ycombinator.com/item?id=5575255>https://news.ycombinator.com/item?id=5575255</a></td></tr>\n",
       "<tr><td style=\"text-align: right;\">5419609</td><td>Comment    </td><td>Unfortunately I can't nam...                 </td><td><a href=https://news.ycombinator.com/item?id=5419609>https://news.ycombinator.com/item?id=5419609</a></td></tr>\n",
       "<tr><td style=\"text-align: right;\">5376251</td><td>Comment    </td><td>It happens.  There are in...                 </td><td><a href=https://news.ycombinator.com/item?id=5376251>https://news.ycombinator.com/item?id=5376251</a></td></tr>\n",
       "</tbody>\n",
       "</table>"
      ],
      "text/plain": [
       "<IPython.core.display.HTML object>"
      ]
     },
     "metadata": {},
     "output_type": "display_data"
    }
   ],
   "source": [
    "output_results(results, 10)"
   ]
  },
  {
   "cell_type": "markdown",
   "metadata": {},
   "source": [
    "### Filtering results by post type\n",
    "\n",
    "You can pass multiple boolean parameters to filter the post types: `stories`, `comments`, `show_hn`, `ask_hn`, `front_page`, `polls`, `pollopt`."
   ]
  },
  {
   "cell_type": "code",
   "execution_count": 106,
   "metadata": {},
   "outputs": [],
   "source": [
    "results = search_by_date('python', stories=True)"
   ]
  },
  {
   "cell_type": "code",
   "execution_count": 107,
   "metadata": {},
   "outputs": [
    {
     "data": {
      "text/html": [
       "<table>\n",
       "<thead>\n",
       "<tr><th style=\"text-align: right;\">      ID</th><th>Post Type  </th><th>Text                                                                         </th><th>URL                                                                                                    </th></tr>\n",
       "</thead>\n",
       "<tbody>\n",
       "<tr><td style=\"text-align: right;\">18608592</td><td>Story      </td><td>MIT AI: Python with Guido van Rossum                                         </td><td><a href=https://news.ycombinator.com/item?id=18608592>https://news.ycombinator.com/item?id=18608592</a></td></tr>\n",
       "<tr><td style=\"text-align: right;\">18606963</td><td>Story      </td><td>Azure Functions gets better for Python and JavaScript developers             </td><td><a href=https://news.ycombinator.com/item?id=18606963>https://news.ycombinator.com/item?id=18606963</a></td></tr>\n",
       "<tr><td style=\"text-align: right;\">18606914</td><td>Story      </td><td>Ask HN: What programming language to choose for coding interviews?           </td><td><a href=https://news.ycombinator.com/item?id=18606914>https://news.ycombinator.com/item?id=18606914</a></td></tr>\n",
       "<tr><td style=\"text-align: right;\">18606907</td><td>Story      </td><td>Best Practices for Using Functional Programming in Python                    </td><td><a href=https://news.ycombinator.com/item?id=18606907>https://news.ycombinator.com/item?id=18606907</a></td></tr>\n",
       "<tr><td style=\"text-align: right;\">18605794</td><td>Story      </td><td>A Simple Application of Probabilistic Programming with PyMC3 in Python       </td><td><a href=https://news.ycombinator.com/item?id=18605794>https://news.ycombinator.com/item?id=18605794</a></td></tr>\n",
       "<tr><td style=\"text-align: right;\">18604364</td><td>Story      </td><td>Show HN: Packagr.app – a cloud hosted PyPI server for Python developers      </td><td><a href=https://news.ycombinator.com/item?id=18604364>https://news.ycombinator.com/item?id=18604364</a></td></tr>\n",
       "<tr><td style=\"text-align: right;\">18604175</td><td>Story      </td><td>How to determine which commands failed/succeeded in your Bash_History file?  </td><td><a href=https://news.ycombinator.com/item?id=18604175>https://news.ycombinator.com/item?id=18604175</a></td></tr>\n",
       "<tr><td style=\"text-align: right;\">18604165</td><td>Story      </td><td>Do “good” solutions to things like E2EE, authentication actually exist?      </td><td><a href=https://news.ycombinator.com/item?id=18604165>https://news.ycombinator.com/item?id=18604165</a></td></tr>\n",
       "<tr><td style=\"text-align: right;\">18603813</td><td>Story      </td><td>Deciphering Python: How to Use Abstract Syntax Trees (AST) to Understand Code</td><td><a href=https://news.ycombinator.com/item?id=18603813>https://news.ycombinator.com/item?id=18603813</a></td></tr>\n",
       "<tr><td style=\"text-align: right;\">18600537</td><td>Story      </td><td>Getting started with graph analysis in Python with pandas and networkx       </td><td><a href=https://news.ycombinator.com/item?id=18600537>https://news.ycombinator.com/item?id=18600537</a></td></tr>\n",
       "</tbody>\n",
       "</table>"
      ],
      "text/plain": [
       "<IPython.core.display.HTML object>"
      ]
     },
     "metadata": {},
     "output_type": "display_data"
    }
   ],
   "source": [
    "output_results(results, 10)"
   ]
  },
  {
   "cell_type": "markdown",
   "metadata": {},
   "source": [
    "Also filtering by author:"
   ]
  },
  {
   "cell_type": "code",
   "execution_count": 108,
   "metadata": {},
   "outputs": [],
   "source": [
    "results = search_by_date('lisp', author='pg', stories=True)"
   ]
  },
  {
   "cell_type": "code",
   "execution_count": 109,
   "metadata": {},
   "outputs": [
    {
     "data": {
      "text/html": [
       "<table>\n",
       "<thead>\n",
       "<tr><th style=\"text-align: right;\">     ID</th><th>Post Type  </th><th>Text                                                                </th><th>URL                                                                                                  </th></tr>\n",
       "</thead>\n",
       "<tbody>\n",
       "<tr><td style=\"text-align: right;\">7261591</td><td>Story      </td><td>Source of the recent outagelet                                      </td><td><a href=https://news.ycombinator.com/item?id=7261591>https://news.ycombinator.com/item?id=7261591</a></td></tr>\n",
       "<tr><td style=\"text-align: right;\">5575255</td><td>Story      </td><td>Danny Sullivan's Twitter list about Watertown                       </td><td><a href=https://news.ycombinator.com/item?id=5575255>https://news.ycombinator.com/item?id=5575255</a></td></tr>\n",
       "<tr><td style=\"text-align: right;\">5092711</td><td>Story      </td><td>What we discovered about InstallMonetizer                           </td><td><a href=https://news.ycombinator.com/item?id=5092711>https://news.ycombinator.com/item?id=5092711</a></td></tr>\n",
       "<tr><td style=\"text-align: right;\">2463285</td><td>Story      </td><td>Andreessen Horowitz Leads $1.75M Round In Freebie Marketplace Listia</td><td><a href=https://news.ycombinator.com/item?id=2463285>https://news.ycombinator.com/item?id=2463285</a></td></tr>\n",
       "<tr><td style=\"text-align: right;\"> 878576</td><td>Story      </td><td>Final Startup School Speaker List (Evan and Biz now coming)         </td><td><a href=https://news.ycombinator.com/item?id=878576>https://news.ycombinator.com/item?id=878576</a>  </td></tr>\n",
       "<tr><td style=\"text-align: right;\"> 842685</td><td>Story      </td><td>Doug McIlroy: McCarthy Presents Lisp                                </td><td><a href=https://news.ycombinator.com/item?id=842685>https://news.ycombinator.com/item?id=842685</a>  </td></tr>\n",
       "<tr><td style=\"text-align: right;\">  93526</td><td>Story      </td><td>New: Best Comments (via \"Lists\" Link at Bottom)                     </td><td><a href=https://news.ycombinator.com/item?id=93526>https://news.ycombinator.com/item?id=93526</a>    </td></tr>\n",
       "<tr><td style=\"text-align: right;\">  35935</td><td>Story      </td><td>Arrington: The FCC Needs To Listen To Google                        </td><td><a href=https://news.ycombinator.com/item?id=35935>https://news.ycombinator.com/item?id=35935</a>    </td></tr>\n",
       "<tr><td style=\"text-align: right;\">   7687</td><td>Story      </td><td>My Pairwise Test Results (not bad, but got the book part wrong)     </td><td><a href=https://news.ycombinator.com/item?id=7687>https://news.ycombinator.com/item?id=7687</a>      </td></tr>\n",
       "</tbody>\n",
       "</table>"
      ],
      "text/plain": [
       "<IPython.core.display.HTML object>"
      ]
     },
     "metadata": {},
     "output_type": "display_data"
    }
   ],
   "source": [
    "output_results(results, 10)"
   ]
  },
  {
   "cell_type": "markdown",
   "metadata": {},
   "source": [
    "Filtering by query, author and including both stories and comments:"
   ]
  },
  {
   "cell_type": "code",
   "execution_count": 110,
   "metadata": {},
   "outputs": [],
   "source": [
    "results = search_by_date('lisp', author='pg', stories=True, comments=True)"
   ]
  },
  {
   "cell_type": "code",
   "execution_count": 111,
   "metadata": {},
   "outputs": [
    {
     "data": {
      "text/html": [
       "<table>\n",
       "<thead>\n",
       "<tr><th style=\"text-align: right;\">     ID</th><th>Post Type  </th><th>Text                                         </th><th>URL                                                                                                  </th></tr>\n",
       "</thead>\n",
       "<tbody>\n",
       "<tr><td style=\"text-align: right;\">7446596</td><td>Comment    </td><td>This was all the code it ...                 </td><td><a href=https://news.ycombinator.com/item?id=7446596>https://news.ycombinator.com/item?id=7446596</a></td></tr>\n",
       "<tr><td style=\"text-align: right;\">7261591</td><td>Story      </td><td>Source of the recent outagelet               </td><td><a href=https://news.ycombinator.com/item?id=7261591>https://news.ycombinator.com/item?id=7261591</a></td></tr>\n",
       "<tr><td style=\"text-align: right;\">7128860</td><td>Comment    </td><td>Why doesn't the arti...                      </td><td><a href=https://news.ycombinator.com/item?id=7128860>https://news.ycombinator.com/item?id=7128860</a></td></tr>\n",
       "<tr><td style=\"text-align: right;\">6705398</td><td>Comment    </td><td>I thought this would be a...                 </td><td><a href=https://news.ycombinator.com/item?id=6705398>https://news.ycombinator.com/item?id=6705398</a></td></tr>\n",
       "<tr><td style=\"text-align: right;\">6557282</td><td>Comment    </td><td>Has \"Lisp hacker&quo...                      </td><td><a href=https://news.ycombinator.com/item?id=6557282>https://news.ycombinator.com/item?id=6557282</a></td></tr>\n",
       "<tr><td style=\"text-align: right;\">6400769</td><td>Comment    </td><td>It's a real person. ...                      </td><td><a href=https://news.ycombinator.com/item?id=6400769>https://news.ycombinator.com/item?id=6400769</a></td></tr>\n",
       "<tr><td style=\"text-align: right;\">6210178</td><td>Comment    </td><td>Wow is this list good.  I...                 </td><td><a href=https://news.ycombinator.com/item?id=6210178>https://news.ycombinator.com/item?id=6210178</a></td></tr>\n",
       "<tr><td style=\"text-align: right;\">5575255</td><td>Story      </td><td>Danny Sullivan's Twitter list about Watertown</td><td><a href=https://news.ycombinator.com/item?id=5575255>https://news.ycombinator.com/item?id=5575255</a></td></tr>\n",
       "<tr><td style=\"text-align: right;\">5419609</td><td>Comment    </td><td>Unfortunately I can't nam...                 </td><td><a href=https://news.ycombinator.com/item?id=5419609>https://news.ycombinator.com/item?id=5419609</a></td></tr>\n",
       "<tr><td style=\"text-align: right;\">5376251</td><td>Comment    </td><td>It happens.  There are in...                 </td><td><a href=https://news.ycombinator.com/item?id=5376251>https://news.ycombinator.com/item?id=5376251</a></td></tr>\n",
       "</tbody>\n",
       "</table>"
      ],
      "text/plain": [
       "<IPython.core.display.HTML object>"
      ]
     },
     "metadata": {},
     "output_type": "display_data"
    }
   ],
   "source": [
    "output_results(results, 10)"
   ]
  },
  {
   "cell_type": "markdown",
   "metadata": {},
   "source": [
    "Other examples:"
   ]
  },
  {
   "cell_type": "code",
   "execution_count": 112,
   "metadata": {},
   "outputs": [],
   "source": [
    "results = search_by_date('lisp', author='pg', polls=True)"
   ]
  },
  {
   "cell_type": "code",
   "execution_count": 113,
   "metadata": {},
   "outputs": [
    {
     "data": {
      "text/html": [
       "<table>\n",
       "<thead>\n",
       "<tr><th style=\"text-align: right;\">     ID</th><th>Post Type  </th><th>Text                            </th><th>URL                                                                                                  </th></tr>\n",
       "</thead>\n",
       "<tbody>\n",
       "<tr><td style=\"text-align: right;\">1185896</td><td>Poll       </td><td>Poll: Ask or Leaders in Top Bar?</td><td><a href=https://news.ycombinator.com/item?id=1185896>https://news.ycombinator.com/item?id=1185896</a></td></tr>\n",
       "</tbody>\n",
       "</table>"
      ],
      "text/plain": [
       "<IPython.core.display.HTML object>"
      ]
     },
     "metadata": {},
     "output_type": "display_data"
    }
   ],
   "source": [
    "output_results(results, 10)"
   ]
  },
  {
   "cell_type": "code",
   "execution_count": 114,
   "metadata": {},
   "outputs": [],
   "source": [
    "results = search_by_date('python', show_hn=True)"
   ]
  },
  {
   "cell_type": "code",
   "execution_count": 115,
   "metadata": {},
   "outputs": [
    {
     "data": {
      "text/html": [
       "<table>\n",
       "<thead>\n",
       "<tr><th style=\"text-align: right;\">      ID</th><th>Post Type  </th><th>Text                                                                         </th><th>URL                                                                                                    </th></tr>\n",
       "</thead>\n",
       "<tbody>\n",
       "<tr><td style=\"text-align: right;\">18604364</td><td>Story      </td><td>Show HN: Packagr.app – a cloud hosted PyPI server for Python developers      </td><td><a href=https://news.ycombinator.com/item?id=18604364>https://news.ycombinator.com/item?id=18604364</a></td></tr>\n",
       "<tr><td style=\"text-align: right;\">18600380</td><td>Story      </td><td>Show HN: StrictYAML 1.0 released: parse and validate YAML sanely in python   </td><td><a href=https://news.ycombinator.com/item?id=18600380>https://news.ycombinator.com/item?id=18600380</a></td></tr>\n",
       "<tr><td style=\"text-align: right;\">18599179</td><td>Story      </td><td>Show HN: Enophp – PHP library for the eno notation language                  </td><td><a href=https://news.ycombinator.com/item?id=18599179>https://news.ycombinator.com/item?id=18599179</a></td></tr>\n",
       "<tr><td style=\"text-align: right;\">18583789</td><td>Story      </td><td>Show HN: PowerSong, a platform to see which songs make you run or ride faster</td><td><a href=https://news.ycombinator.com/item?id=18583789>https://news.ycombinator.com/item?id=18583789</a></td></tr>\n",
       "<tr><td style=\"text-align: right;\">18576532</td><td>Story      </td><td>Show HN: A sum-type decorator for python                                     </td><td><a href=https://news.ycombinator.com/item?id=18576532>https://news.ycombinator.com/item?id=18576532</a></td></tr>\n",
       "<tr><td style=\"text-align: right;\">18544818</td><td>Story      </td><td>Show HN: CV Compiler – A Python-based tool to improve tech resumes           </td><td><a href=https://news.ycombinator.com/item?id=18544818>https://news.ycombinator.com/item?id=18544818</a></td></tr>\n",
       "<tr><td style=\"text-align: right;\">18529273</td><td>Story      </td><td>Show HN: Packagr.app – a cloud hosted PyPI server for Python developers      </td><td><a href=https://news.ycombinator.com/item?id=18529273>https://news.ycombinator.com/item?id=18529273</a></td></tr>\n",
       "<tr><td style=\"text-align: right;\">18516123</td><td>Story      </td><td>Show HN: Machine Learning on JVM or a piece of cake                          </td><td><a href=https://news.ycombinator.com/item?id=18516123>https://news.ycombinator.com/item?id=18516123</a></td></tr>\n",
       "<tr><td style=\"text-align: right;\">18509313</td><td>Story      </td><td>Show HN: Efficient environment variables management and typing for python    </td><td><a href=https://news.ycombinator.com/item?id=18509313>https://news.ycombinator.com/item?id=18509313</a></td></tr>\n",
       "<tr><td style=\"text-align: right;\">18502878</td><td>Story      </td><td>Show HN: Packagr.app – a cloud hosted PyPI server for Python developers      </td><td><a href=https://news.ycombinator.com/item?id=18502878>https://news.ycombinator.com/item?id=18502878</a></td></tr>\n",
       "</tbody>\n",
       "</table>"
      ],
      "text/plain": [
       "<IPython.core.display.HTML object>"
      ]
     },
     "metadata": {},
     "output_type": "display_data"
    }
   ],
   "source": [
    "output_results(results, 10)"
   ]
  },
  {
   "cell_type": "markdown",
   "metadata": {},
   "source": [
    "### Tags\n",
    "\n",
    "HN Search API supports \"tags\", that can be logically combined to create complex expressions. There are 3 types of tags included in `python-hn`:\n",
    "\n",
    "* `PostType`: with options `story`, `comment`, `poll`, `pollopt`, `show_hn`, `ask_hn`, `front_page`.\n",
    "* `Author`: receives the username as param (`Author('pg')`).\n",
    "* `StoryID`: receives the story id (`StoryID('6902129')`)\n",
    "\n",
    "`PostType`s also have aliases that can be used instead of writing the full tag."
   ]
  },
  {
   "cell_type": "code",
   "execution_count": 116,
   "metadata": {},
   "outputs": [],
   "source": [
    "from hn import PostType, Author, StoryID\n",
    "from hn.tags import Story, Comment, AskHN, ShowHN"
   ]
  },
  {
   "cell_type": "code",
   "execution_count": 117,
   "metadata": {},
   "outputs": [
    {
     "data": {
      "text/plain": [
       "True"
      ]
     },
     "execution_count": 117,
     "metadata": {},
     "output_type": "execute_result"
    }
   ],
   "source": [
    "PostType('story') == Story"
   ]
  },
  {
   "cell_type": "markdown",
   "metadata": {},
   "source": [
    "The power of the tags arise when we combine them logically with `or` and `and` expressions. For example, you could ask for posts that are either _Ask HN_ or _Show HN_. To combine tags with an `or` expression, the operator is `|`:"
   ]
  },
  {
   "cell_type": "code",
   "execution_count": 118,
   "metadata": {},
   "outputs": [],
   "source": [
    "tags = PostType('ask_hn') | PostType('show_hn')"
   ]
  },
  {
   "cell_type": "code",
   "execution_count": 119,
   "metadata": {},
   "outputs": [],
   "source": [
    "results = search_by_date('python', tags=tags)"
   ]
  },
  {
   "cell_type": "code",
   "execution_count": 120,
   "metadata": {},
   "outputs": [
    {
     "data": {
      "text/html": [
       "<table>\n",
       "<thead>\n",
       "<tr><th style=\"text-align: right;\">      ID</th><th>Post Type  </th><th>Text                                                                         </th><th>URL                                                                                                    </th></tr>\n",
       "</thead>\n",
       "<tbody>\n",
       "<tr><td style=\"text-align: right;\">18606914</td><td>Story      </td><td>Ask HN: What programming language to choose for coding interviews?           </td><td><a href=https://news.ycombinator.com/item?id=18606914>https://news.ycombinator.com/item?id=18606914</a></td></tr>\n",
       "<tr><td style=\"text-align: right;\">18604364</td><td>Story      </td><td>Show HN: Packagr.app – a cloud hosted PyPI server for Python developers      </td><td><a href=https://news.ycombinator.com/item?id=18604364>https://news.ycombinator.com/item?id=18604364</a></td></tr>\n",
       "<tr><td style=\"text-align: right;\">18600380</td><td>Story      </td><td>Show HN: StrictYAML 1.0 released: parse and validate YAML sanely in python   </td><td><a href=https://news.ycombinator.com/item?id=18600380>https://news.ycombinator.com/item?id=18600380</a></td></tr>\n",
       "<tr><td style=\"text-align: right;\">18600209</td><td>Story      </td><td>Ask HN: What are some simple things I can build by myself?                   </td><td><a href=https://news.ycombinator.com/item?id=18600209>https://news.ycombinator.com/item?id=18600209</a></td></tr>\n",
       "<tr><td style=\"text-align: right;\">18599811</td><td>Story      </td><td>Ask HN: Building a side project that makes money. Where to start?            </td><td><a href=https://news.ycombinator.com/item?id=18599811>https://news.ycombinator.com/item?id=18599811</a></td></tr>\n",
       "<tr><td style=\"text-align: right;\">18599179</td><td>Story      </td><td>Show HN: Enophp – PHP library for the eno notation language                  </td><td><a href=https://news.ycombinator.com/item?id=18599179>https://news.ycombinator.com/item?id=18599179</a></td></tr>\n",
       "<tr><td style=\"text-align: right;\">18598025</td><td>Story      </td><td>Ask HN: R or other non-Python languages for data science work                </td><td><a href=https://news.ycombinator.com/item?id=18598025>https://news.ycombinator.com/item?id=18598025</a></td></tr>\n",
       "<tr><td style=\"text-align: right;\">18583789</td><td>Story      </td><td>Show HN: PowerSong, a platform to see which songs make you run or ride faster</td><td><a href=https://news.ycombinator.com/item?id=18583789>https://news.ycombinator.com/item?id=18583789</a></td></tr>\n",
       "<tr><td style=\"text-align: right;\">18576532</td><td>Story      </td><td>Show HN: A sum-type decorator for python                                     </td><td><a href=https://news.ycombinator.com/item?id=18576532>https://news.ycombinator.com/item?id=18576532</a></td></tr>\n",
       "<tr><td style=\"text-align: right;\">18576231</td><td>Story      </td><td>Ask HN: What's up with Data Scientist in 3 months programs?                  </td><td><a href=https://news.ycombinator.com/item?id=18576231>https://news.ycombinator.com/item?id=18576231</a></td></tr>\n",
       "</tbody>\n",
       "</table>"
      ],
      "text/plain": [
       "<IPython.core.display.HTML object>"
      ]
     },
     "metadata": {},
     "output_type": "display_data"
    }
   ],
   "source": [
    "output_results(results, 10)"
   ]
  },
  {
   "cell_type": "markdown",
   "metadata": {},
   "source": [
    "Using aliases:"
   ]
  },
  {
   "cell_type": "code",
   "execution_count": 121,
   "metadata": {},
   "outputs": [],
   "source": [
    "tags = AskHN | ShowHN"
   ]
  },
  {
   "cell_type": "code",
   "execution_count": 122,
   "metadata": {},
   "outputs": [],
   "source": [
    "results = search_by_date('python', tags=tags)"
   ]
  },
  {
   "cell_type": "code",
   "execution_count": 123,
   "metadata": {},
   "outputs": [
    {
     "data": {
      "text/html": [
       "<table>\n",
       "<thead>\n",
       "<tr><th style=\"text-align: right;\">      ID</th><th>Post Type  </th><th>Text                                                                         </th><th>URL                                                                                                    </th></tr>\n",
       "</thead>\n",
       "<tbody>\n",
       "<tr><td style=\"text-align: right;\">18606914</td><td>Story      </td><td>Ask HN: What programming language to choose for coding interviews?           </td><td><a href=https://news.ycombinator.com/item?id=18606914>https://news.ycombinator.com/item?id=18606914</a></td></tr>\n",
       "<tr><td style=\"text-align: right;\">18604364</td><td>Story      </td><td>Show HN: Packagr.app – a cloud hosted PyPI server for Python developers      </td><td><a href=https://news.ycombinator.com/item?id=18604364>https://news.ycombinator.com/item?id=18604364</a></td></tr>\n",
       "<tr><td style=\"text-align: right;\">18600380</td><td>Story      </td><td>Show HN: StrictYAML 1.0 released: parse and validate YAML sanely in python   </td><td><a href=https://news.ycombinator.com/item?id=18600380>https://news.ycombinator.com/item?id=18600380</a></td></tr>\n",
       "<tr><td style=\"text-align: right;\">18600209</td><td>Story      </td><td>Ask HN: What are some simple things I can build by myself?                   </td><td><a href=https://news.ycombinator.com/item?id=18600209>https://news.ycombinator.com/item?id=18600209</a></td></tr>\n",
       "<tr><td style=\"text-align: right;\">18599811</td><td>Story      </td><td>Ask HN: Building a side project that makes money. Where to start?            </td><td><a href=https://news.ycombinator.com/item?id=18599811>https://news.ycombinator.com/item?id=18599811</a></td></tr>\n",
       "<tr><td style=\"text-align: right;\">18599179</td><td>Story      </td><td>Show HN: Enophp – PHP library for the eno notation language                  </td><td><a href=https://news.ycombinator.com/item?id=18599179>https://news.ycombinator.com/item?id=18599179</a></td></tr>\n",
       "<tr><td style=\"text-align: right;\">18598025</td><td>Story      </td><td>Ask HN: R or other non-Python languages for data science work                </td><td><a href=https://news.ycombinator.com/item?id=18598025>https://news.ycombinator.com/item?id=18598025</a></td></tr>\n",
       "<tr><td style=\"text-align: right;\">18583789</td><td>Story      </td><td>Show HN: PowerSong, a platform to see which songs make you run or ride faster</td><td><a href=https://news.ycombinator.com/item?id=18583789>https://news.ycombinator.com/item?id=18583789</a></td></tr>\n",
       "<tr><td style=\"text-align: right;\">18576532</td><td>Story      </td><td>Show HN: A sum-type decorator for python                                     </td><td><a href=https://news.ycombinator.com/item?id=18576532>https://news.ycombinator.com/item?id=18576532</a></td></tr>\n",
       "<tr><td style=\"text-align: right;\">18576231</td><td>Story      </td><td>Ask HN: What's up with Data Scientist in 3 months programs?                  </td><td><a href=https://news.ycombinator.com/item?id=18576231>https://news.ycombinator.com/item?id=18576231</a></td></tr>\n",
       "</tbody>\n",
       "</table>"
      ],
      "text/plain": [
       "<IPython.core.display.HTML object>"
      ]
     },
     "metadata": {},
     "output_type": "display_data"
    }
   ],
   "source": [
    "output_results(results, 10)"
   ]
  },
  {
   "cell_type": "markdown",
   "metadata": {},
   "source": [
    "To combine tags with an `and` expression, the operator is `&`. For example, all the posts that are **comments** of the story ID [7261591](https://news.ycombinator.com/item?id=7261591):"
   ]
  },
  {
   "cell_type": "code",
   "execution_count": 124,
   "metadata": {},
   "outputs": [],
   "source": [
    "tags = PostType('comment') & StoryID('7261591')"
   ]
  },
  {
   "cell_type": "code",
   "execution_count": 125,
   "metadata": {},
   "outputs": [],
   "source": [
    "results = search_by_date(tags=tags)"
   ]
  },
  {
   "cell_type": "code",
   "execution_count": 126,
   "metadata": {},
   "outputs": [
    {
     "data": {
      "text/html": [
       "<table>\n",
       "<thead>\n",
       "<tr><th style=\"text-align: right;\">     ID</th><th>Post Type  </th><th>Text                        </th><th>URL                                                                                                  </th></tr>\n",
       "</thead>\n",
       "<tbody>\n",
       "<tr><td style=\"text-align: right;\">7298300</td><td>Comment    </td><td>Sorry, this is uneducated...</td><td><a href=https://news.ycombinator.com/item?id=7298300>https://news.ycombinator.com/item?id=7298300</a></td></tr>\n",
       "<tr><td style=\"text-align: right;\">7269494</td><td>Comment    </td><td>I was able to keep a 10k&...</td><td><a href=https://news.ycombinator.com/item?id=7269494>https://news.ycombinator.com/item?id=7269494</a></td></tr>\n",
       "<tr><td style=\"text-align: right;\">7269489</td><td>Comment    </td><td>Hmm, that sounds like qui...</td><td><a href=https://news.ycombinator.com/item?id=7269489>https://news.ycombinator.com/item?id=7269489</a></td></tr>\n",
       "<tr><td style=\"text-align: right;\">7268211</td><td>Comment    </td><td>You just need enough core...</td><td><a href=https://news.ycombinator.com/item?id=7268211>https://news.ycombinator.com/item?id=7268211</a></td></tr>\n",
       "<tr><td style=\"text-align: right;\">7266280</td><td>Comment    </td><td>Serving 403s to w00tw00ts...</td><td><a href=https://news.ycombinator.com/item?id=7266280>https://news.ycombinator.com/item?id=7266280</a></td></tr>\n",
       "<tr><td style=\"text-align: right;\">7265942</td><td>Comment    </td><td>Things like \"Top 10 ...     </td><td><a href=https://news.ycombinator.com/item?id=7265942>https://news.ycombinator.com/item?id=7265942</a></td></tr>\n",
       "<tr><td style=\"text-align: right;\">7265025</td><td>Comment    </td><td>Right ... websites with t...</td><td><a href=https://news.ycombinator.com/item?id=7265025>https://news.ycombinator.com/item?id=7265025</a></td></tr>\n",
       "<tr><td style=\"text-align: right;\">7264560</td><td>Comment    </td><td>In this case using nginx ...</td><td><a href=https://news.ycombinator.com/item?id=7264560>https://news.ycombinator.com/item?id=7264560</a></td></tr>\n",
       "<tr><td style=\"text-align: right;\">7262931</td><td>Comment    </td><td>I'm not sure I parti...     </td><td><a href=https://news.ycombinator.com/item?id=7262931>https://news.ycombinator.com/item?id=7262931</a></td></tr>\n",
       "<tr><td style=\"text-align: right;\">7262890</td><td>Comment    </td><td>Interestingly, distinguis...</td><td><a href=https://news.ycombinator.com/item?id=7262890>https://news.ycombinator.com/item?id=7262890</a></td></tr>\n",
       "</tbody>\n",
       "</table>"
      ],
      "text/plain": [
       "<IPython.core.display.HTML object>"
      ]
     },
     "metadata": {},
     "output_type": "display_data"
    }
   ],
   "source": [
    "output_results(results, 10)"
   ]
  },
  {
   "cell_type": "markdown",
   "metadata": {},
   "source": [
    "### Filtering by _date_, _points_ or _number of comments_"
   ]
  },
  {
   "cell_type": "markdown",
   "metadata": {},
   "source": [
    "It is also possible to pass different filters to restrain the search by creation date, number of points or comments. Namely, the parameters are:\n",
    "\n",
    "* Creation Date: `created_at`\n",
    "* Points: `points`\n",
    "* Number of comments: `num_comments`\n",
    "\n",
    "They accept `>, <, >=, <=` operators with a syntax similar to Django's:\n",
    "\n",
    "* `lt` (`<`): Lower than. Example `ponts__lt=100`\n",
    "* `lte` (`<=`): Lower than or equals to. Example `ponts__lte=100`\n",
    "* `gt` (`>`): Greater than. Example `created_at__gt='2018'` (created after 2018-01-01).\n",
    "* `gte` (`>=`): Greater than or equals to. Example `num_comments__gte=50`.\n",
    "\n",
    "A few more examples using filters:"
   ]
  },
  {
   "cell_type": "markdown",
   "metadata": {},
   "source": [
    "##### All post types created after October 1st, 2018\n",
    "\n",
    "The filter is `created_at__gt`, `gt` is the `>` operator. The `created_at` filter will try to parse dates automatically (eg: `2018` is interpreted as `2018-01-01`)."
   ]
  },
  {
   "cell_type": "code",
   "execution_count": 127,
   "metadata": {},
   "outputs": [],
   "source": [
    "results = search_by_date(stories=True, created_at__gt='2018-10')"
   ]
  },
  {
   "cell_type": "code",
   "execution_count": 128,
   "metadata": {},
   "outputs": [
    {
     "data": {
      "text/html": [
       "<table>\n",
       "<thead>\n",
       "<tr><th style=\"text-align: right;\">      ID</th><th>Post Type  </th><th>Text                                                         </th><th>URL                                                                                                    </th></tr>\n",
       "</thead>\n",
       "<tbody>\n",
       "<tr><td style=\"text-align: right;\">18608634</td><td>Story      </td><td>A new app can detect anemia from only a photo of nails       </td><td><a href=https://news.ycombinator.com/item?id=18608634>https://news.ycombinator.com/item?id=18608634</a></td></tr>\n",
       "<tr><td style=\"text-align: right;\">18608633</td><td>Story      </td><td>Product development platform powered by AI                   </td><td><a href=https://news.ycombinator.com/item?id=18608633>https://news.ycombinator.com/item?id=18608633</a></td></tr>\n",
       "<tr><td style=\"text-align: right;\">18608627</td><td>Story      </td><td>Most software architecture diagrams are useless              </td><td><a href=https://news.ycombinator.com/item?id=18608627>https://news.ycombinator.com/item?id=18608627</a></td></tr>\n",
       "<tr><td style=\"text-align: right;\">18608621</td><td>Story      </td><td>Hamiltonian Monte Carlo explained                            </td><td><a href=https://news.ycombinator.com/item?id=18608621>https://news.ycombinator.com/item?id=18608621</a></td></tr>\n",
       "<tr><td style=\"text-align: right;\">18608615</td><td>Story      </td><td>Danielle Morill on Mattermark's “premature scaling”          </td><td><a href=https://news.ycombinator.com/item?id=18608615>https://news.ycombinator.com/item?id=18608615</a></td></tr>\n",
       "<tr><td style=\"text-align: right;\">18608612</td><td>Story      </td><td>Generating Fake Data in Development to Populate Your Database</td><td><a href=https://news.ycombinator.com/item?id=18608612>https://news.ycombinator.com/item?id=18608612</a></td></tr>\n",
       "<tr><td style=\"text-align: right;\">18608604</td><td>Story      </td><td>GQLify – One GraphQL for All APIs                            </td><td><a href=https://news.ycombinator.com/item?id=18608604>https://news.ycombinator.com/item?id=18608604</a></td></tr>\n",
       "<tr><td style=\"text-align: right;\">18608603</td><td>Story      </td><td>New theory could explain missing 95 percent of the cosmos    </td><td><a href=https://news.ycombinator.com/item?id=18608603>https://news.ycombinator.com/item?id=18608603</a></td></tr>\n",
       "<tr><td style=\"text-align: right;\">18608600</td><td>Story      </td><td>Code-based design tool                                       </td><td><a href=https://news.ycombinator.com/item?id=18608600>https://news.ycombinator.com/item?id=18608600</a></td></tr>\n",
       "<tr><td style=\"text-align: right;\">18608592</td><td>Story      </td><td>MIT AI: Python with Guido van Rossum                         </td><td><a href=https://news.ycombinator.com/item?id=18608592>https://news.ycombinator.com/item?id=18608592</a></td></tr>\n",
       "</tbody>\n",
       "</table>"
      ],
      "text/plain": [
       "<IPython.core.display.HTML object>"
      ]
     },
     "metadata": {},
     "output_type": "display_data"
    }
   ],
   "source": [
    "output_results(results, 10)"
   ]
  },
  {
   "cell_type": "markdown",
   "metadata": {},
   "source": [
    "##### Created after October 1st, 2017 and before January 1st 2018"
   ]
  },
  {
   "cell_type": "code",
   "execution_count": 129,
   "metadata": {},
   "outputs": [],
   "source": [
    "results = search_by_date(stories=True, created_at__gt='2017-10', created_at__lt='2018')"
   ]
  },
  {
   "cell_type": "code",
   "execution_count": 130,
   "metadata": {},
   "outputs": [
    {
     "data": {
      "text/html": [
       "<table>\n",
       "<thead>\n",
       "<tr><th style=\"text-align: right;\">      ID</th><th>Post Type  </th><th>Text                                                                      </th><th>URL                                                                                                    </th></tr>\n",
       "</thead>\n",
       "<tbody>\n",
       "<tr><td style=\"text-align: right;\">16043719</td><td>Story      </td><td>RAM-less Buffers                                                          </td><td><a href=https://news.ycombinator.com/item?id=16043719>https://news.ycombinator.com/item?id=16043719</a></td></tr>\n",
       "<tr><td style=\"text-align: right;\">16043643</td><td>Story      </td><td>Profitable remote job site built with single PHP file (4.5K lines of code)</td><td><a href=https://news.ycombinator.com/item?id=16043643>https://news.ycombinator.com/item?id=16043643</a></td></tr>\n",
       "<tr><td style=\"text-align: right;\">16043612</td><td>Story      </td><td>Subreddit Gender Ratios                                                   </td><td><a href=https://news.ycombinator.com/item?id=16043612>https://news.ycombinator.com/item?id=16043612</a></td></tr>\n",
       "<tr><td style=\"text-align: right;\">16043585</td><td>Story      </td><td>Core Infrastructure Initiative Best Practices Badge                       </td><td><a href=https://news.ycombinator.com/item?id=16043585>https://news.ycombinator.com/item?id=16043585</a></td></tr>\n",
       "<tr><td style=\"text-align: right;\">16043578</td><td>Story      </td><td>IOHIDeous OS X Local Kernel Vulnerability                                 </td><td><a href=https://news.ycombinator.com/item?id=16043578>https://news.ycombinator.com/item?id=16043578</a></td></tr>\n",
       "<tr><td style=\"text-align: right;\">16043561</td><td>Story      </td><td>Dave Barry's 2017 Year in Review                                          </td><td><a href=https://news.ycombinator.com/item?id=16043561>https://news.ycombinator.com/item?id=16043561</a></td></tr>\n",
       "<tr><td style=\"text-align: right;\">16043557</td><td>Story      </td><td>New Year’s Resolutions and the Science of Willpower (2015)                </td><td><a href=https://news.ycombinator.com/item?id=16043557>https://news.ycombinator.com/item?id=16043557</a></td></tr>\n",
       "<tr><td style=\"text-align: right;\">16043554</td><td>Story      </td><td>Top Cryptocurrencies or Altcoins to have in 2018                          </td><td><a href=https://news.ycombinator.com/item?id=16043554>https://news.ycombinator.com/item?id=16043554</a></td></tr>\n",
       "<tr><td style=\"text-align: right;\">16043548</td><td>Story      </td><td>The Google Book                                                           </td><td><a href=https://news.ycombinator.com/item?id=16043548>https://news.ycombinator.com/item?id=16043548</a></td></tr>\n",
       "<tr><td style=\"text-align: right;\">16043542</td><td>Story      </td><td>AI and Deep Learning in 2017 – A Year in Review                           </td><td><a href=https://news.ycombinator.com/item?id=16043542>https://news.ycombinator.com/item?id=16043542</a></td></tr>\n",
       "</tbody>\n",
       "</table>"
      ],
      "text/plain": [
       "<IPython.core.display.HTML object>"
      ]
     },
     "metadata": {},
     "output_type": "display_data"
    }
   ],
   "source": [
    "output_results(results, 10)"
   ]
  },
  {
   "cell_type": "markdown",
   "metadata": {},
   "source": [
    "##### A few more examples:"
   ]
  },
  {
   "cell_type": "code",
   "execution_count": 131,
   "metadata": {},
   "outputs": [],
   "source": [
    "# Stories with *exactly* 1000 points\n",
    "results = search_by_date(stories=True, points=1000)"
   ]
  },
  {
   "cell_type": "code",
   "execution_count": 132,
   "metadata": {},
   "outputs": [
    {
     "data": {
      "text/html": [
       "<table>\n",
       "<thead>\n",
       "<tr><th style=\"text-align: right;\">      ID</th><th>Post Type  </th><th>Text                               </th><th>URL                                                                                                    </th></tr>\n",
       "</thead>\n",
       "<tbody>\n",
       "<tr><td style=\"text-align: right;\">14090063</td><td>Story      </td><td>IndieHackers.com acquired by Stripe</td><td><a href=https://news.ycombinator.com/item?id=14090063>https://news.ycombinator.com/item?id=14090063</a></td></tr>\n",
       "<tr><td style=\"text-align: right;\">13489156</td><td>Story      </td><td>First they came for the Iranians   </td><td><a href=https://news.ycombinator.com/item?id=13489156>https://news.ycombinator.com/item?id=13489156</a></td></tr>\n",
       "</tbody>\n",
       "</table>"
      ],
      "text/plain": [
       "<IPython.core.display.HTML object>"
      ]
     },
     "metadata": {},
     "output_type": "display_data"
    }
   ],
   "source": [
    "output_results(results, 10)"
   ]
  },
  {
   "cell_type": "code",
   "execution_count": 133,
   "metadata": {},
   "outputs": [],
   "source": [
    "# Stories including \"Python\" with more than 1000 points\n",
    "results = search_by_date('python', stories=True, points__gt=1000)"
   ]
  },
  {
   "cell_type": "code",
   "execution_count": 134,
   "metadata": {},
   "outputs": [
    {
     "data": {
      "text/html": [
       "<table>\n",
       "<thead>\n",
       "<tr><th style=\"text-align: right;\">      ID</th><th>Post Type  </th><th>Text                                                              </th><th>URL                                                                                                    </th></tr>\n",
       "</thead>\n",
       "<tbody>\n",
       "<tr><td style=\"text-align: right;\">17515492</td><td>Story      </td><td>“I'm basically giving myself a permanent vacation from being BDFL”</td><td><a href=https://news.ycombinator.com/item?id=17515492>https://news.ycombinator.com/item?id=17515492</a></td></tr>\n",
       "<tr><td style=\"text-align: right;\">13319904</td><td>Story      </td><td>Grumpy: Go running Python                                         </td><td><a href=https://news.ycombinator.com/item?id=13319904>https://news.ycombinator.com/item?id=13319904</a></td></tr>\n",
       "</tbody>\n",
       "</table>"
      ],
      "text/plain": [
       "<IPython.core.display.HTML object>"
      ]
     },
     "metadata": {},
     "output_type": "display_data"
    }
   ],
   "source": [
    "output_results(results, 10)"
   ]
  },
  {
   "cell_type": "code",
   "execution_count": 135,
   "metadata": {},
   "outputs": [],
   "source": [
    "# Comments with more than 50 points\n",
    "results = search_by_date('python', comments=True, points__gt=50)"
   ]
  },
  {
   "cell_type": "code",
   "execution_count": 139,
   "metadata": {},
   "outputs": [
    {
     "data": {
      "text/html": [
       "<table>\n",
       "<thead>\n",
       "<tr><th style=\"text-align: right;\">      ID</th><th>Post Type  </th><th>Text                                                            </th><th>URL                                                                                                    </th></tr>\n",
       "</thead>\n",
       "<tbody>\n",
       "<tr><td style=\"text-align: right;\">18600293</td><td>Story      </td><td>Fortnite dev launches Epic Games Store that takes 12% of revenue</td><td><a href=https://news.ycombinator.com/item?id=18600293>https://news.ycombinator.com/item?id=18600293</a></td></tr>\n",
       "<tr><td style=\"text-align: right;\">18600220</td><td>Story      </td><td>Ask HN: What to do after $8M (all cash, post tax) exit?         </td><td><a href=https://news.ycombinator.com/item?id=18600220>https://news.ycombinator.com/item?id=18600220</a></td></tr>\n",
       "<tr><td style=\"text-align: right;\">18599728</td><td>Story      </td><td>What we learned from 3 years of bra engineering, and what's next</td><td><a href=https://news.ycombinator.com/item?id=18599728>https://news.ycombinator.com/item?id=18599728</a></td></tr>\n",
       "<tr><td style=\"text-align: right;\">18599200</td><td>Story      </td><td>Show HN: Dark Reader extension – Dark mode for every website    </td><td><a href=https://news.ycombinator.com/item?id=18599200>https://news.ycombinator.com/item?id=18599200</a></td></tr>\n",
       "<tr><td style=\"text-align: right;\">18599147</td><td>Story      </td><td>Algorithmic auditors are exposing employee expense fraud        </td><td><a href=https://news.ycombinator.com/item?id=18599147>https://news.ycombinator.com/item?id=18599147</a></td></tr>\n",
       "<tr><td style=\"text-align: right;\">18598989</td><td>Story      </td><td>Leaving NYC for Nashville                                       </td><td><a href=https://news.ycombinator.com/item?id=18598989>https://news.ycombinator.com/item?id=18598989</a></td></tr>\n",
       "<tr><td style=\"text-align: right;\">18598544</td><td>Story      </td><td>Absolute Beginner's Guide to Emacs (2012)                       </td><td><a href=https://news.ycombinator.com/item?id=18598544>https://news.ycombinator.com/item?id=18598544</a></td></tr>\n",
       "<tr><td style=\"text-align: right;\">18598448</td><td>Story      </td><td>Photons, Quasars and the Possibility of Free Will               </td><td><a href=https://news.ycombinator.com/item?id=18598448>https://news.ycombinator.com/item?id=18598448</a></td></tr>\n",
       "<tr><td style=\"text-align: right;\">18596841</td><td>Story      </td><td>A Not-Called Function Can Cause a 5X Slowdown                   </td><td><a href=https://news.ycombinator.com/item?id=18596841>https://news.ycombinator.com/item?id=18596841</a></td></tr>\n",
       "<tr><td style=\"text-align: right;\">18596450</td><td>Story      </td><td>Udacity lays off 125 people in global strategy shift            </td><td><a href=https://news.ycombinator.com/item?id=18596450>https://news.ycombinator.com/item?id=18596450</a></td></tr>\n",
       "</tbody>\n",
       "</table>"
      ],
      "text/plain": [
       "<IPython.core.display.HTML object>"
      ]
     },
     "metadata": {},
     "output_type": "display_data"
    }
   ],
   "source": [
    "output_results(results, 10)"
   ]
  },
  {
   "cell_type": "code",
   "execution_count": 137,
   "metadata": {},
   "outputs": [],
   "source": [
    "# Stories with 100 comments or more\n",
    "results = search_by_date(stories=True, num_comments__gt=100)"
   ]
  },
  {
   "cell_type": "code",
   "execution_count": 138,
   "metadata": {},
   "outputs": [
    {
     "data": {
      "text/html": [
       "<table>\n",
       "<thead>\n",
       "<tr><th style=\"text-align: right;\">      ID</th><th>Post Type  </th><th>Text                                                                           </th><th>URL                                                                                                    </th></tr>\n",
       "</thead>\n",
       "<tbody>\n",
       "<tr><td style=\"text-align: right;\">18605709</td><td>Story      </td><td>Why Do Hospitals Hate Sleep So Much?                                           </td><td><a href=https://news.ycombinator.com/item?id=18605709>https://news.ycombinator.com/item?id=18605709</a></td></tr>\n",
       "<tr><td style=\"text-align: right;\">18605412</td><td>Story      </td><td>Why parking minimums almost destroyed my town and how we repealed them (2017)  </td><td><a href=https://news.ycombinator.com/item?id=18605412>https://news.ycombinator.com/item?id=18605412</a></td></tr>\n",
       "<tr><td style=\"text-align: right;\">18604049</td><td>Story      </td><td>Convert a Bird Scooter to a personal one with $32 kit                          </td><td><a href=https://news.ycombinator.com/item?id=18604049>https://news.ycombinator.com/item?id=18604049</a></td></tr>\n",
       "<tr><td style=\"text-align: right;\">18603227</td><td>Story      </td><td>Modern China Is So Crazy It Needs a New Literary Genre (2016)                  </td><td><a href=https://news.ycombinator.com/item?id=18603227>https://news.ycombinator.com/item?id=18603227</a></td></tr>\n",
       "<tr><td style=\"text-align: right;\">18602843</td><td>Story      </td><td>China Announces Punishments for Intellectual-Property Theft                    </td><td><a href=https://news.ycombinator.com/item?id=18602843>https://news.ycombinator.com/item?id=18602843</a></td></tr>\n",
       "<tr><td style=\"text-align: right;\">18601597</td><td>Story      </td><td>Samsung used my DSLR photo to fake their phone’s “portrait mode”               </td><td><a href=https://news.ycombinator.com/item?id=18601597>https://news.ycombinator.com/item?id=18601597</a></td></tr>\n",
       "<tr><td style=\"text-align: right;\">18601588</td><td>Story      </td><td>Google's cross-platform Flutter UI toolkit goes 1.0                            </td><td><a href=https://news.ycombinator.com/item?id=18601588>https://news.ycombinator.com/item?id=18601588</a></td></tr>\n",
       "<tr><td style=\"text-align: right;\">18601515</td><td>Story      </td><td>Movim – Federated, open-source alternative to Tumblr                           </td><td><a href=https://news.ycombinator.com/item?id=18601515>https://news.ycombinator.com/item?id=18601515</a></td></tr>\n",
       "<tr><td style=\"text-align: right;\">18600950</td><td>Story      </td><td>Announcing Open Source of WPF, Windows Forms, and WinUI                        </td><td><a href=https://news.ycombinator.com/item?id=18600950>https://news.ycombinator.com/item?id=18600950</a></td></tr>\n",
       "<tr><td style=\"text-align: right;\">18600576</td><td>Story      </td><td>Google personalizes search results even when you’re logged out, new study finds</td><td><a href=https://news.ycombinator.com/item?id=18600576>https://news.ycombinator.com/item?id=18600576</a></td></tr>\n",
       "</tbody>\n",
       "</table>"
      ],
      "text/plain": [
       "<IPython.core.display.HTML object>"
      ]
     },
     "metadata": {},
     "output_type": "display_data"
    }
   ],
   "source": [
    "output_results(results, 10)"
   ]
  }
 ],
 "metadata": {
  "kernelspec": {
   "display_name": "Python 3",
   "language": "python",
   "name": "python3"
  },
  "language_info": {
   "codemirror_mode": {
    "name": "ipython",
    "version": 3
   },
   "file_extension": ".py",
   "mimetype": "text/x-python",
   "name": "python",
   "nbconvert_exporter": "python",
   "pygments_lexer": "ipython3",
   "version": "3.6.6"
  }
 },
 "nbformat": 4,
 "nbformat_minor": 2
}
