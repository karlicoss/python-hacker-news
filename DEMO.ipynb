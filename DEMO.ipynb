{
 "cells": [
  {
   "cell_type": "markdown",
   "metadata": {},
   "source": [
    "![](https://user-images.githubusercontent.com/872296/49451747-a04c4500-f7be-11e8-96dc-c8d605249c5e.png)\n",
    "\n",
    "_Execute code in the selected cell using the Play button at the top (or `ctrl + return`)._\n",
    "\n",
    "![image](https://user-images.githubusercontent.com/872296/49451632-611df400-f7be-11e8-85a1-5c3a670a0eaf.png)\n",
    "\n",
    "---"
   ]
  },
  {
   "cell_type": "markdown",
   "metadata": {},
   "source": [
    "# HackerNews / Algolia Python Library"
   ]
  },
  {
   "cell_type": "markdown",
   "metadata": {},
   "source": [
    "`python-hn` is a small library to access [Hacker New's Search API](https://hn.algolia.com/api) powered by [Algolia](https://www.algolia.com).\n",
    "\n",
    "It's designed to be simple to use and pythonic, but also provide the full power of Search API."
   ]
  },
  {
   "cell_type": "markdown",
   "metadata": {},
   "source": [
    "## Install instructions\n",
    "\n",
    "Install with `pip`:"
   ]
  },
  {
   "cell_type": "code",
   "execution_count": 99,
   "metadata": {},
   "outputs": [
    {
     "name": "stdout",
     "output_type": "stream",
     "text": [
      "Requirement already satisfied: python-hn in /usr/local/lib/python3.6/site-packages (0.0.3)\n",
      "Requirement already satisfied: requests>=2.20 in /usr/local/lib/python3.6/site-packages (from python-hn) (2.20.0)\n",
      "Requirement already satisfied: idna<2.8,>=2.5 in /usr/local/lib/python3.6/site-packages (from requests>=2.20->python-hn) (2.7)\n",
      "Requirement already satisfied: chardet<3.1.0,>=3.0.2 in /usr/local/lib/python3.6/site-packages (from requests>=2.20->python-hn) (3.0.4)\n",
      "Requirement already satisfied: certifi>=2017.4.17 in /usr/local/lib/python3.6/site-packages (from requests>=2.20->python-hn) (2018.10.15)\n",
      "Requirement already satisfied: urllib3<1.25,>=1.21.1 in /usr/local/lib/python3.6/site-packages (from requests>=2.20->python-hn) (1.24.1)\n",
      "\u001b[33mYou are using pip version 18.0, however version 18.1 is available.\n",
      "You should consider upgrading via the 'pip install --upgrade pip' command.\u001b[0m\n"
     ]
    }
   ],
   "source": [
    "!pip install python-hn"
   ]
  },
  {
   "cell_type": "markdown",
   "metadata": {},
   "source": [
    "## Usage\n",
    "\n",
    "The main function of the library is `search_by_date`, which accepts multiple parameters; among them, is a query string containing the phrase to search for."
   ]
  },
  {
   "cell_type": "code",
   "execution_count": 1,
   "metadata": {},
   "outputs": [],
   "source": [
    "from hn import search_by_date"
   ]
  },
  {
   "cell_type": "code",
   "execution_count": 2,
   "metadata": {},
   "outputs": [],
   "source": [
    "results = search_by_date('python')"
   ]
  },
  {
   "cell_type": "markdown",
   "metadata": {},
   "source": [
    "By default, all the different \"post types\" will be included: stories, comments, polls, etc."
   ]
  },
  {
   "cell_type": "markdown",
   "metadata": {},
   "source": [
    "_This util function will help us format the ouput in a pretty way (content hidden)_"
   ]
  },
  {
   "cell_type": "code",
   "execution_count": 3,
   "metadata": {},
   "outputs": [],
   "source": [
    "import html\n",
    "import tabulate\n",
    "\n",
    "from itertools import islice\n",
    "from IPython.display import HTML, display\n",
    "\n",
    "\n",
    "def output_results(results, count=None, url=True, post_type=True, text_length=25):\n",
    "    if count:\n",
    "        results = islice(results, count)\n",
    "    lines = []\n",
    "    header = ['ID']\n",
    "    if post_type:\n",
    "        header += ['Post Type']\n",
    "    header += ['Text']\n",
    "    if url:\n",
    "        header += ['URL']\n",
    "\n",
    "    for post in results:\n",
    "        line = [post['objectID']]\n",
    "        if post_type:\n",
    "            line += [post['_tags'][0].title()]\n",
    "        \n",
    "        text = html.unescape(\n",
    "            post['title'] or str(post['comment_text'] or '')[:text_length] + '...')\n",
    "        line += [text]\n",
    "        if url:\n",
    "            link = \"https://news.ycombinator.com/item?id={}\".format(post['objectID'])\n",
    "            line += [f\"<a href={link}>{link}</a>\"]\n",
    "        lines.append(line)\n",
    "    return display(HTML(tabulate.tabulate(lines, headers=header, tablefmt='html')))"
   ]
  },
  {
   "cell_type": "code",
   "execution_count": 4,
   "metadata": {},
   "outputs": [
    {
     "data": {
      "text/html": [
       "<table>\n",
       "<thead>\n",
       "<tr><th style=\"text-align: right;\">      ID</th><th>Post Type  </th><th>Text                                                                   </th><th>URL                                                                                                    </th></tr>\n",
       "</thead>\n",
       "<tbody>\n",
       "<tr><td style=\"text-align: right;\">18648191</td><td>Story      </td><td>Python Community Interview with Brian Peterson                         </td><td><a href=https://news.ycombinator.com/item?id=18648191>https://news.ycombinator.com/item?id=18648191</a></td></tr>\n",
       "<tr><td style=\"text-align: right;\">18648058</td><td>Comment    </td><td>Get a Raspberry Pi for he...                                           </td><td><a href=https://news.ycombinator.com/item?id=18648058>https://news.ycombinator.com/item?id=18648058</a></td></tr>\n",
       "<tr><td style=\"text-align: right;\">18647980</td><td>Comment    </td><td>I have not found my prefe...                                           </td><td><a href=https://news.ycombinator.com/item?id=18647980>https://news.ycombinator.com/item?id=18647980</a></td></tr>\n",
       "<tr><td style=\"text-align: right;\">18647588</td><td>Story      </td><td>How good are your Python skills?                                       </td><td><a href=https://news.ycombinator.com/item?id=18647588>https://news.ycombinator.com/item?id=18647588</a></td></tr>\n",
       "<tr><td style=\"text-align: right;\">18646903</td><td>Comment    </td><td>I already contribute to t...                                           </td><td><a href=https://news.ycombinator.com/item?id=18646903>https://news.ycombinator.com/item?id=18646903</a></td></tr>\n",
       "<tr><td style=\"text-align: right;\">18646545</td><td>Comment    </td><td>DATA ARCHITECT (Location:...                                           </td><td><a href=https://news.ycombinator.com/item?id=18646545>https://news.ycombinator.com/item?id=18646545</a></td></tr>\n",
       "<tr><td style=\"text-align: right;\">18646501</td><td>Comment    </td><td>recursion is your friend ...                                           </td><td><a href=https://news.ycombinator.com/item?id=18646501>https://news.ycombinator.com/item?id=18646501</a></td></tr>\n",
       "<tr><td style=\"text-align: right;\">18646406</td><td>Story      </td><td>Embed Python in NGINX                                                  </td><td><a href=https://news.ycombinator.com/item?id=18646406>https://news.ycombinator.com/item?id=18646406</a></td></tr>\n",
       "<tr><td style=\"text-align: right;\">18645690</td><td>Story      </td><td>Show HN: Tracker Radio – Play retro tracker based music in your browser</td><td><a href=https://news.ycombinator.com/item?id=18645690>https://news.ycombinator.com/item?id=18645690</a></td></tr>\n",
       "<tr><td style=\"text-align: right;\">18645293</td><td>Comment    </td><td>Jashmenn, I just checked ...                                           </td><td><a href=https://news.ycombinator.com/item?id=18645293>https://news.ycombinator.com/item?id=18645293</a></td></tr>\n",
       "</tbody>\n",
       "</table>"
      ],
      "text/plain": [
       "<IPython.core.display.HTML object>"
      ]
     },
     "metadata": {},
     "output_type": "display_data"
    }
   ],
   "source": [
    "output_results(results, 10)"
   ]
  },
  {
   "cell_type": "markdown",
   "metadata": {},
   "source": [
    "\n",
    "As you can see, we're receiving both results for stories and comments."
   ]
  },
  {
   "cell_type": "markdown",
   "metadata": {},
   "source": [
    "### Searching by author\n",
    "\n",
    "The second parameter of the `search_by_date` function is the author's username of the post (story or comment). Example:"
   ]
  },
  {
   "cell_type": "code",
   "execution_count": 5,
   "metadata": {},
   "outputs": [],
   "source": [
    "# 'pg' is Paul Graham: https://news.ycombinator.com/user?id=pg\n",
    "results = search_by_date('lisp', 'pg')"
   ]
  },
  {
   "cell_type": "code",
   "execution_count": 6,
   "metadata": {},
   "outputs": [
    {
     "data": {
      "text/html": [
       "<table>\n",
       "<thead>\n",
       "<tr><th style=\"text-align: right;\">     ID</th><th>Post Type  </th><th>Text                                         </th><th>URL                                                                                                  </th></tr>\n",
       "</thead>\n",
       "<tbody>\n",
       "<tr><td style=\"text-align: right;\">7446596</td><td>Comment    </td><td>This was all the code it ...                 </td><td><a href=https://news.ycombinator.com/item?id=7446596>https://news.ycombinator.com/item?id=7446596</a></td></tr>\n",
       "<tr><td style=\"text-align: right;\">7261591</td><td>Story      </td><td>Source of the recent outagelet               </td><td><a href=https://news.ycombinator.com/item?id=7261591>https://news.ycombinator.com/item?id=7261591</a></td></tr>\n",
       "<tr><td style=\"text-align: right;\">7128860</td><td>Comment    </td><td>Why doesn't the arti...                      </td><td><a href=https://news.ycombinator.com/item?id=7128860>https://news.ycombinator.com/item?id=7128860</a></td></tr>\n",
       "<tr><td style=\"text-align: right;\">6705398</td><td>Comment    </td><td>I thought this would be a...                 </td><td><a href=https://news.ycombinator.com/item?id=6705398>https://news.ycombinator.com/item?id=6705398</a></td></tr>\n",
       "<tr><td style=\"text-align: right;\">6557282</td><td>Comment    </td><td>Has \"Lisp hacker&quo...                      </td><td><a href=https://news.ycombinator.com/item?id=6557282>https://news.ycombinator.com/item?id=6557282</a></td></tr>\n",
       "<tr><td style=\"text-align: right;\">6400769</td><td>Comment    </td><td>It's a real person. ...                      </td><td><a href=https://news.ycombinator.com/item?id=6400769>https://news.ycombinator.com/item?id=6400769</a></td></tr>\n",
       "<tr><td style=\"text-align: right;\">6210178</td><td>Comment    </td><td>Wow is this list good.  I...                 </td><td><a href=https://news.ycombinator.com/item?id=6210178>https://news.ycombinator.com/item?id=6210178</a></td></tr>\n",
       "<tr><td style=\"text-align: right;\">5575255</td><td>Story      </td><td>Danny Sullivan's Twitter list about Watertown</td><td><a href=https://news.ycombinator.com/item?id=5575255>https://news.ycombinator.com/item?id=5575255</a></td></tr>\n",
       "<tr><td style=\"text-align: right;\">5419609</td><td>Comment    </td><td>Unfortunately I can't nam...                 </td><td><a href=https://news.ycombinator.com/item?id=5419609>https://news.ycombinator.com/item?id=5419609</a></td></tr>\n",
       "<tr><td style=\"text-align: right;\">5376251</td><td>Comment    </td><td>It happens.  There are in...                 </td><td><a href=https://news.ycombinator.com/item?id=5376251>https://news.ycombinator.com/item?id=5376251</a></td></tr>\n",
       "</tbody>\n",
       "</table>"
      ],
      "text/plain": [
       "<IPython.core.display.HTML object>"
      ]
     },
     "metadata": {},
     "output_type": "display_data"
    }
   ],
   "source": [
    "output_results(results, 10)"
   ]
  },
  {
   "cell_type": "markdown",
   "metadata": {},
   "source": [
    "### Filtering results by post type\n",
    "\n",
    "You can pass multiple boolean parameters to filter the post types: `stories`, `comments`, `show_hn`, `ask_hn`, `front_page`, `polls`, `pollopt`."
   ]
  },
  {
   "cell_type": "code",
   "execution_count": 7,
   "metadata": {},
   "outputs": [],
   "source": [
    "results = search_by_date('python', stories=True)"
   ]
  },
  {
   "cell_type": "code",
   "execution_count": 8,
   "metadata": {},
   "outputs": [
    {
     "data": {
      "text/html": [
       "<table>\n",
       "<thead>\n",
       "<tr><th style=\"text-align: right;\">      ID</th><th>Post Type  </th><th>Text                                                                         </th><th>URL                                                                                                    </th></tr>\n",
       "</thead>\n",
       "<tbody>\n",
       "<tr><td style=\"text-align: right;\">18648191</td><td>Story      </td><td>Python Community Interview with Brian Peterson                               </td><td><a href=https://news.ycombinator.com/item?id=18648191>https://news.ycombinator.com/item?id=18648191</a></td></tr>\n",
       "<tr><td style=\"text-align: right;\">18647588</td><td>Story      </td><td>How good are your Python skills?                                             </td><td><a href=https://news.ycombinator.com/item?id=18647588>https://news.ycombinator.com/item?id=18647588</a></td></tr>\n",
       "<tr><td style=\"text-align: right;\">18646406</td><td>Story      </td><td>Embed Python in NGINX                                                        </td><td><a href=https://news.ycombinator.com/item?id=18646406>https://news.ycombinator.com/item?id=18646406</a></td></tr>\n",
       "<tr><td style=\"text-align: right;\">18645690</td><td>Story      </td><td>Show HN: Tracker Radio – Play retro tracker based music in your browser      </td><td><a href=https://news.ycombinator.com/item?id=18645690>https://news.ycombinator.com/item?id=18645690</a></td></tr>\n",
       "<tr><td style=\"text-align: right;\">18645552</td><td>Story      </td><td>Ask HN: Is it ethical for companies to commoditize open source projects?     </td><td><a href=https://news.ycombinator.com/item?id=18645552>https://news.ycombinator.com/item?id=18645552</a></td></tr>\n",
       "<tr><td style=\"text-align: right;\">18644055</td><td>Story      </td><td>Vscode IntelliCode: AI-Assisted Productivity for Python, JavaScript, Java    </td><td><a href=https://news.ycombinator.com/item?id=18644055>https://news.ycombinator.com/item?id=18644055</a></td></tr>\n",
       "<tr><td style=\"text-align: right;\">18643132</td><td>Story      </td><td>When the allocator works against you: memory fragmentation in Python on glibc</td><td><a href=https://news.ycombinator.com/item?id=18643132>https://news.ycombinator.com/item?id=18643132</a></td></tr>\n",
       "<tr><td style=\"text-align: right;\">18641986</td><td>Story      </td><td>Ask HN: What's the best way to spend $2500 on Machine Learning content?      </td><td><a href=https://news.ycombinator.com/item?id=18641986>https://news.ycombinator.com/item?id=18641986</a></td></tr>\n",
       "<tr><td style=\"text-align: right;\">18640499</td><td>Story      </td><td>AWSome: simple python wrapper over boto3 inspired by AWS cli                 </td><td><a href=https://news.ycombinator.com/item?id=18640499>https://news.ycombinator.com/item?id=18640499</a></td></tr>\n",
       "<tr><td style=\"text-align: right;\">18640457</td><td>Story      </td><td>Python logging made (stupidly) simple                                        </td><td><a href=https://news.ycombinator.com/item?id=18640457>https://news.ycombinator.com/item?id=18640457</a></td></tr>\n",
       "</tbody>\n",
       "</table>"
      ],
      "text/plain": [
       "<IPython.core.display.HTML object>"
      ]
     },
     "metadata": {},
     "output_type": "display_data"
    }
   ],
   "source": [
    "output_results(results, 10)"
   ]
  },
  {
   "cell_type": "markdown",
   "metadata": {},
   "source": [
    "Also filtering by author:"
   ]
  },
  {
   "cell_type": "code",
   "execution_count": 11,
   "metadata": {},
   "outputs": [],
   "source": [
    "results = search_by_date('lisp', author='pg', stories=True)"
   ]
  },
  {
   "cell_type": "code",
   "execution_count": 12,
   "metadata": {},
   "outputs": [
    {
     "data": {
      "text/html": [
       "<table>\n",
       "<thead>\n",
       "<tr><th style=\"text-align: right;\">     ID</th><th>Post Type  </th><th>Text                                                                </th><th>URL                                                                                                  </th></tr>\n",
       "</thead>\n",
       "<tbody>\n",
       "<tr><td style=\"text-align: right;\">7261591</td><td>Story      </td><td>Source of the recent outagelet                                      </td><td><a href=https://news.ycombinator.com/item?id=7261591>https://news.ycombinator.com/item?id=7261591</a></td></tr>\n",
       "<tr><td style=\"text-align: right;\">5575255</td><td>Story      </td><td>Danny Sullivan's Twitter list about Watertown                       </td><td><a href=https://news.ycombinator.com/item?id=5575255>https://news.ycombinator.com/item?id=5575255</a></td></tr>\n",
       "<tr><td style=\"text-align: right;\">5092711</td><td>Story      </td><td>What we discovered about InstallMonetizer                           </td><td><a href=https://news.ycombinator.com/item?id=5092711>https://news.ycombinator.com/item?id=5092711</a></td></tr>\n",
       "<tr><td style=\"text-align: right;\">2463285</td><td>Story      </td><td>Andreessen Horowitz Leads $1.75M Round In Freebie Marketplace Listia</td><td><a href=https://news.ycombinator.com/item?id=2463285>https://news.ycombinator.com/item?id=2463285</a></td></tr>\n",
       "<tr><td style=\"text-align: right;\"> 878576</td><td>Story      </td><td>Final Startup School Speaker List (Evan and Biz now coming)         </td><td><a href=https://news.ycombinator.com/item?id=878576>https://news.ycombinator.com/item?id=878576</a>  </td></tr>\n",
       "<tr><td style=\"text-align: right;\"> 842685</td><td>Story      </td><td>Doug McIlroy: McCarthy Presents Lisp                                </td><td><a href=https://news.ycombinator.com/item?id=842685>https://news.ycombinator.com/item?id=842685</a>  </td></tr>\n",
       "<tr><td style=\"text-align: right;\">  93526</td><td>Story      </td><td>New: Best Comments (via \"Lists\" Link at Bottom)                     </td><td><a href=https://news.ycombinator.com/item?id=93526>https://news.ycombinator.com/item?id=93526</a>    </td></tr>\n",
       "<tr><td style=\"text-align: right;\">  35935</td><td>Story      </td><td>Arrington: The FCC Needs To Listen To Google                        </td><td><a href=https://news.ycombinator.com/item?id=35935>https://news.ycombinator.com/item?id=35935</a>    </td></tr>\n",
       "<tr><td style=\"text-align: right;\">   7687</td><td>Story      </td><td>My Pairwise Test Results (not bad, but got the book part wrong)     </td><td><a href=https://news.ycombinator.com/item?id=7687>https://news.ycombinator.com/item?id=7687</a>      </td></tr>\n",
       "</tbody>\n",
       "</table>"
      ],
      "text/plain": [
       "<IPython.core.display.HTML object>"
      ]
     },
     "metadata": {},
     "output_type": "display_data"
    }
   ],
   "source": [
    "output_results(results, 10)"
   ]
  },
  {
   "cell_type": "markdown",
   "metadata": {},
   "source": [
    "Filtering by query, author and including both stories and comments:"
   ]
  },
  {
   "cell_type": "code",
   "execution_count": 13,
   "metadata": {},
   "outputs": [],
   "source": [
    "results = search_by_date('lisp', author='pg', stories=True, comments=True)"
   ]
  },
  {
   "cell_type": "code",
   "execution_count": 14,
   "metadata": {},
   "outputs": [
    {
     "data": {
      "text/html": [
       "<table>\n",
       "<thead>\n",
       "<tr><th style=\"text-align: right;\">     ID</th><th>Post Type  </th><th>Text                                         </th><th>URL                                                                                                  </th></tr>\n",
       "</thead>\n",
       "<tbody>\n",
       "<tr><td style=\"text-align: right;\">7446596</td><td>Comment    </td><td>This was all the code it ...                 </td><td><a href=https://news.ycombinator.com/item?id=7446596>https://news.ycombinator.com/item?id=7446596</a></td></tr>\n",
       "<tr><td style=\"text-align: right;\">7261591</td><td>Story      </td><td>Source of the recent outagelet               </td><td><a href=https://news.ycombinator.com/item?id=7261591>https://news.ycombinator.com/item?id=7261591</a></td></tr>\n",
       "<tr><td style=\"text-align: right;\">7128860</td><td>Comment    </td><td>Why doesn't the arti...                      </td><td><a href=https://news.ycombinator.com/item?id=7128860>https://news.ycombinator.com/item?id=7128860</a></td></tr>\n",
       "<tr><td style=\"text-align: right;\">6705398</td><td>Comment    </td><td>I thought this would be a...                 </td><td><a href=https://news.ycombinator.com/item?id=6705398>https://news.ycombinator.com/item?id=6705398</a></td></tr>\n",
       "<tr><td style=\"text-align: right;\">6557282</td><td>Comment    </td><td>Has \"Lisp hacker&quo...                      </td><td><a href=https://news.ycombinator.com/item?id=6557282>https://news.ycombinator.com/item?id=6557282</a></td></tr>\n",
       "<tr><td style=\"text-align: right;\">6400769</td><td>Comment    </td><td>It's a real person. ...                      </td><td><a href=https://news.ycombinator.com/item?id=6400769>https://news.ycombinator.com/item?id=6400769</a></td></tr>\n",
       "<tr><td style=\"text-align: right;\">6210178</td><td>Comment    </td><td>Wow is this list good.  I...                 </td><td><a href=https://news.ycombinator.com/item?id=6210178>https://news.ycombinator.com/item?id=6210178</a></td></tr>\n",
       "<tr><td style=\"text-align: right;\">5575255</td><td>Story      </td><td>Danny Sullivan's Twitter list about Watertown</td><td><a href=https://news.ycombinator.com/item?id=5575255>https://news.ycombinator.com/item?id=5575255</a></td></tr>\n",
       "<tr><td style=\"text-align: right;\">5419609</td><td>Comment    </td><td>Unfortunately I can't nam...                 </td><td><a href=https://news.ycombinator.com/item?id=5419609>https://news.ycombinator.com/item?id=5419609</a></td></tr>\n",
       "<tr><td style=\"text-align: right;\">5376251</td><td>Comment    </td><td>It happens.  There are in...                 </td><td><a href=https://news.ycombinator.com/item?id=5376251>https://news.ycombinator.com/item?id=5376251</a></td></tr>\n",
       "</tbody>\n",
       "</table>"
      ],
      "text/plain": [
       "<IPython.core.display.HTML object>"
      ]
     },
     "metadata": {},
     "output_type": "display_data"
    }
   ],
   "source": [
    "output_results(results, 10)"
   ]
  },
  {
   "cell_type": "markdown",
   "metadata": {},
   "source": [
    "Other examples:"
   ]
  },
  {
   "cell_type": "code",
   "execution_count": 15,
   "metadata": {},
   "outputs": [],
   "source": [
    "results = search_by_date('lisp', author='pg', polls=True)"
   ]
  },
  {
   "cell_type": "code",
   "execution_count": 16,
   "metadata": {},
   "outputs": [
    {
     "data": {
      "text/html": [
       "<table>\n",
       "<thead>\n",
       "<tr><th style=\"text-align: right;\">     ID</th><th>Post Type  </th><th>Text                            </th><th>URL                                                                                                  </th></tr>\n",
       "</thead>\n",
       "<tbody>\n",
       "<tr><td style=\"text-align: right;\">1185896</td><td>Poll       </td><td>Poll: Ask or Leaders in Top Bar?</td><td><a href=https://news.ycombinator.com/item?id=1185896>https://news.ycombinator.com/item?id=1185896</a></td></tr>\n",
       "</tbody>\n",
       "</table>"
      ],
      "text/plain": [
       "<IPython.core.display.HTML object>"
      ]
     },
     "metadata": {},
     "output_type": "display_data"
    }
   ],
   "source": [
    "output_results(results, 10)"
   ]
  },
  {
   "cell_type": "code",
   "execution_count": 17,
   "metadata": {},
   "outputs": [],
   "source": [
    "results = search_by_date('python', show_hn=True)"
   ]
  },
  {
   "cell_type": "code",
   "execution_count": 18,
   "metadata": {},
   "outputs": [
    {
     "data": {
      "text/html": [
       "<table>\n",
       "<thead>\n",
       "<tr><th style=\"text-align: right;\">      ID</th><th>Post Type  </th><th>Text                                                                         </th><th>URL                                                                                                    </th></tr>\n",
       "</thead>\n",
       "<tbody>\n",
       "<tr><td style=\"text-align: right;\">18645690</td><td>Story      </td><td>Show HN: Tracker Radio – Play retro tracker based music in your browser      </td><td><a href=https://news.ycombinator.com/item?id=18645690>https://news.ycombinator.com/item?id=18645690</a></td></tr>\n",
       "<tr><td style=\"text-align: right;\">18639121</td><td>Story      </td><td>Show HN: Cog – A Pure Python Graph Database                                  </td><td><a href=https://news.ycombinator.com/item?id=18639121>https://news.ycombinator.com/item?id=18639121</a></td></tr>\n",
       "<tr><td style=\"text-align: right;\">18629029</td><td>Story      </td><td>Show HN: Python 3 Bootcamp                                                   </td><td><a href=https://news.ycombinator.com/item?id=18629029>https://news.ycombinator.com/item?id=18629029</a></td></tr>\n",
       "<tr><td style=\"text-align: right;\">18608728</td><td>Story      </td><td>Show HN: Terracotta, a light-weight XYZ tile server in Python                </td><td><a href=https://news.ycombinator.com/item?id=18608728>https://news.ycombinator.com/item?id=18608728</a></td></tr>\n",
       "<tr><td style=\"text-align: right;\">18604364</td><td>Story      </td><td>Show HN: Packagr.app – a cloud hosted PyPI server for Python developers      </td><td><a href=https://news.ycombinator.com/item?id=18604364>https://news.ycombinator.com/item?id=18604364</a></td></tr>\n",
       "<tr><td style=\"text-align: right;\">18600380</td><td>Story      </td><td>Show HN: StrictYAML 1.0 released: parse and validate YAML sanely in python   </td><td><a href=https://news.ycombinator.com/item?id=18600380>https://news.ycombinator.com/item?id=18600380</a></td></tr>\n",
       "<tr><td style=\"text-align: right;\">18599179</td><td>Story      </td><td>Show HN: Enophp – PHP library for the eno notation language                  </td><td><a href=https://news.ycombinator.com/item?id=18599179>https://news.ycombinator.com/item?id=18599179</a></td></tr>\n",
       "<tr><td style=\"text-align: right;\">18583789</td><td>Story      </td><td>Show HN: PowerSong, a platform to see which songs make you run or ride faster</td><td><a href=https://news.ycombinator.com/item?id=18583789>https://news.ycombinator.com/item?id=18583789</a></td></tr>\n",
       "<tr><td style=\"text-align: right;\">18576532</td><td>Story      </td><td>Show HN: A sum-type decorator for python                                     </td><td><a href=https://news.ycombinator.com/item?id=18576532>https://news.ycombinator.com/item?id=18576532</a></td></tr>\n",
       "<tr><td style=\"text-align: right;\">18544818</td><td>Story      </td><td>Show HN: CV Compiler – A Python-based tool to improve tech resumes           </td><td><a href=https://news.ycombinator.com/item?id=18544818>https://news.ycombinator.com/item?id=18544818</a></td></tr>\n",
       "</tbody>\n",
       "</table>"
      ],
      "text/plain": [
       "<IPython.core.display.HTML object>"
      ]
     },
     "metadata": {},
     "output_type": "display_data"
    }
   ],
   "source": [
    "output_results(results, 10)"
   ]
  },
  {
   "cell_type": "markdown",
   "metadata": {},
   "source": [
    "### Tags\n",
    "\n",
    "HN Search API supports \"tags\", that can be logically combined to create complex expressions. There are 3 types of tags included in `python-hn`:\n",
    "\n",
    "* `PostType`: with options `story`, `comment`, `poll`, `pollopt`, `show_hn`, `ask_hn`, `front_page`.\n",
    "* `Author`: receives the username as param (`Author('pg')`).\n",
    "* `StoryID`: receives the story id (`StoryID('6902129')`)\n",
    "\n",
    "`PostType`s also have aliases that can be used instead of writing the full tag."
   ]
  },
  {
   "cell_type": "code",
   "execution_count": 19,
   "metadata": {},
   "outputs": [],
   "source": [
    "from hn import PostType, Author, StoryID\n",
    "from hn.tags import Story, Comment, AskHN, ShowHN"
   ]
  },
  {
   "cell_type": "code",
   "execution_count": 20,
   "metadata": {},
   "outputs": [
    {
     "data": {
      "text/plain": [
       "True"
      ]
     },
     "execution_count": 20,
     "metadata": {},
     "output_type": "execute_result"
    }
   ],
   "source": [
    "PostType('story') == Story"
   ]
  },
  {
   "cell_type": "markdown",
   "metadata": {},
   "source": [
    "The power of the tags arise when we combine them logically with `or` and `and` expressions. For example, you could ask for posts that are either _Ask HN_ or _Show HN_. To combine tags with an `or` expression, the operator is `|`:"
   ]
  },
  {
   "cell_type": "code",
   "execution_count": 21,
   "metadata": {},
   "outputs": [],
   "source": [
    "tags = PostType('ask_hn') | PostType('show_hn')"
   ]
  },
  {
   "cell_type": "code",
   "execution_count": 24,
   "metadata": {},
   "outputs": [],
   "source": [
    "results = search_by_date('python', tags=tags)"
   ]
  },
  {
   "cell_type": "code",
   "execution_count": 25,
   "metadata": {},
   "outputs": [
    {
     "data": {
      "text/html": [
       "<table>\n",
       "<thead>\n",
       "<tr><th style=\"text-align: right;\">      ID</th><th>Post Type  </th><th>Text                                                                           </th><th>URL                                                                                                    </th></tr>\n",
       "</thead>\n",
       "<tbody>\n",
       "<tr><td style=\"text-align: right;\">18645690</td><td>Story      </td><td>Show HN: Tracker Radio – Play retro tracker based music in your browser        </td><td><a href=https://news.ycombinator.com/item?id=18645690>https://news.ycombinator.com/item?id=18645690</a></td></tr>\n",
       "<tr><td style=\"text-align: right;\">18645552</td><td>Story      </td><td>Ask HN: Is it ethical for companies to commoditize open source projects?       </td><td><a href=https://news.ycombinator.com/item?id=18645552>https://news.ycombinator.com/item?id=18645552</a></td></tr>\n",
       "<tr><td style=\"text-align: right;\">18641986</td><td>Story      </td><td>Ask HN: What's the best way to spend $2500 on Machine Learning content?        </td><td><a href=https://news.ycombinator.com/item?id=18641986>https://news.ycombinator.com/item?id=18641986</a></td></tr>\n",
       "<tr><td style=\"text-align: right;\">18639121</td><td>Story      </td><td>Show HN: Cog – A Pure Python Graph Database                                    </td><td><a href=https://news.ycombinator.com/item?id=18639121>https://news.ycombinator.com/item?id=18639121</a></td></tr>\n",
       "<tr><td style=\"text-align: right;\">18636437</td><td>Story      </td><td>Ask HN: What's the best and quickest way to build a basic web app for a novice?</td><td><a href=https://news.ycombinator.com/item?id=18636437>https://news.ycombinator.com/item?id=18636437</a></td></tr>\n",
       "<tr><td style=\"text-align: right;\">18629029</td><td>Story      </td><td>Show HN: Python 3 Bootcamp                                                     </td><td><a href=https://news.ycombinator.com/item?id=18629029>https://news.ycombinator.com/item?id=18629029</a></td></tr>\n",
       "<tr><td style=\"text-align: right;\">18615990</td><td>Story      </td><td>Ask HN: Does any one use poetry for python dependency management in production?</td><td><a href=https://news.ycombinator.com/item?id=18615990>https://news.ycombinator.com/item?id=18615990</a></td></tr>\n",
       "<tr><td style=\"text-align: right;\">18612013</td><td>Story      </td><td>Ask HN: How to transition from business role to coder                          </td><td><a href=https://news.ycombinator.com/item?id=18612013>https://news.ycombinator.com/item?id=18612013</a></td></tr>\n",
       "<tr><td style=\"text-align: right;\">18608728</td><td>Story      </td><td>Show HN: Terracotta, a light-weight XYZ tile server in Python                  </td><td><a href=https://news.ycombinator.com/item?id=18608728>https://news.ycombinator.com/item?id=18608728</a></td></tr>\n",
       "<tr><td style=\"text-align: right;\">18606914</td><td>Story      </td><td>Ask HN: What programming language to choose for coding interviews?             </td><td><a href=https://news.ycombinator.com/item?id=18606914>https://news.ycombinator.com/item?id=18606914</a></td></tr>\n",
       "</tbody>\n",
       "</table>"
      ],
      "text/plain": [
       "<IPython.core.display.HTML object>"
      ]
     },
     "metadata": {},
     "output_type": "display_data"
    }
   ],
   "source": [
    "output_results(results, 10)"
   ]
  },
  {
   "cell_type": "markdown",
   "metadata": {},
   "source": [
    "Using aliases:"
   ]
  },
  {
   "cell_type": "code",
   "execution_count": 26,
   "metadata": {},
   "outputs": [],
   "source": [
    "tags = AskHN | ShowHN"
   ]
  },
  {
   "cell_type": "code",
   "execution_count": 27,
   "metadata": {},
   "outputs": [],
   "source": [
    "results = search_by_date('python', tags=tags)"
   ]
  },
  {
   "cell_type": "code",
   "execution_count": 28,
   "metadata": {},
   "outputs": [
    {
     "data": {
      "text/html": [
       "<table>\n",
       "<thead>\n",
       "<tr><th style=\"text-align: right;\">      ID</th><th>Post Type  </th><th>Text                                                                           </th><th>URL                                                                                                    </th></tr>\n",
       "</thead>\n",
       "<tbody>\n",
       "<tr><td style=\"text-align: right;\">18645690</td><td>Story      </td><td>Show HN: Tracker Radio – Play retro tracker based music in your browser        </td><td><a href=https://news.ycombinator.com/item?id=18645690>https://news.ycombinator.com/item?id=18645690</a></td></tr>\n",
       "<tr><td style=\"text-align: right;\">18645552</td><td>Story      </td><td>Ask HN: Is it ethical for companies to commoditize open source projects?       </td><td><a href=https://news.ycombinator.com/item?id=18645552>https://news.ycombinator.com/item?id=18645552</a></td></tr>\n",
       "<tr><td style=\"text-align: right;\">18641986</td><td>Story      </td><td>Ask HN: What's the best way to spend $2500 on Machine Learning content?        </td><td><a href=https://news.ycombinator.com/item?id=18641986>https://news.ycombinator.com/item?id=18641986</a></td></tr>\n",
       "<tr><td style=\"text-align: right;\">18639121</td><td>Story      </td><td>Show HN: Cog – A Pure Python Graph Database                                    </td><td><a href=https://news.ycombinator.com/item?id=18639121>https://news.ycombinator.com/item?id=18639121</a></td></tr>\n",
       "<tr><td style=\"text-align: right;\">18636437</td><td>Story      </td><td>Ask HN: What's the best and quickest way to build a basic web app for a novice?</td><td><a href=https://news.ycombinator.com/item?id=18636437>https://news.ycombinator.com/item?id=18636437</a></td></tr>\n",
       "<tr><td style=\"text-align: right;\">18629029</td><td>Story      </td><td>Show HN: Python 3 Bootcamp                                                     </td><td><a href=https://news.ycombinator.com/item?id=18629029>https://news.ycombinator.com/item?id=18629029</a></td></tr>\n",
       "<tr><td style=\"text-align: right;\">18615990</td><td>Story      </td><td>Ask HN: Does any one use poetry for python dependency management in production?</td><td><a href=https://news.ycombinator.com/item?id=18615990>https://news.ycombinator.com/item?id=18615990</a></td></tr>\n",
       "<tr><td style=\"text-align: right;\">18612013</td><td>Story      </td><td>Ask HN: How to transition from business role to coder                          </td><td><a href=https://news.ycombinator.com/item?id=18612013>https://news.ycombinator.com/item?id=18612013</a></td></tr>\n",
       "<tr><td style=\"text-align: right;\">18608728</td><td>Story      </td><td>Show HN: Terracotta, a light-weight XYZ tile server in Python                  </td><td><a href=https://news.ycombinator.com/item?id=18608728>https://news.ycombinator.com/item?id=18608728</a></td></tr>\n",
       "<tr><td style=\"text-align: right;\">18606914</td><td>Story      </td><td>Ask HN: What programming language to choose for coding interviews?             </td><td><a href=https://news.ycombinator.com/item?id=18606914>https://news.ycombinator.com/item?id=18606914</a></td></tr>\n",
       "</tbody>\n",
       "</table>"
      ],
      "text/plain": [
       "<IPython.core.display.HTML object>"
      ]
     },
     "metadata": {},
     "output_type": "display_data"
    }
   ],
   "source": [
    "output_results(results, 10)"
   ]
  },
  {
   "cell_type": "markdown",
   "metadata": {},
   "source": [
    "To combine tags with an `and` expression, the operator is `&`. For example, all the posts that are **comments** of the story ID [7261591](https://news.ycombinator.com/item?id=7261591):"
   ]
  },
  {
   "cell_type": "code",
   "execution_count": 29,
   "metadata": {},
   "outputs": [],
   "source": [
    "tags = PostType('comment') & StoryID('7261591')"
   ]
  },
  {
   "cell_type": "code",
   "execution_count": 30,
   "metadata": {},
   "outputs": [],
   "source": [
    "results = search_by_date(tags=tags)"
   ]
  },
  {
   "cell_type": "code",
   "execution_count": 31,
   "metadata": {},
   "outputs": [
    {
     "data": {
      "text/html": [
       "<table>\n",
       "<thead>\n",
       "<tr><th style=\"text-align: right;\">     ID</th><th>Post Type  </th><th>Text                        </th><th>URL                                                                                                  </th></tr>\n",
       "</thead>\n",
       "<tbody>\n",
       "<tr><td style=\"text-align: right;\">7298300</td><td>Comment    </td><td>Sorry, this is uneducated...</td><td><a href=https://news.ycombinator.com/item?id=7298300>https://news.ycombinator.com/item?id=7298300</a></td></tr>\n",
       "<tr><td style=\"text-align: right;\">7269494</td><td>Comment    </td><td>I was able to keep a 10k&...</td><td><a href=https://news.ycombinator.com/item?id=7269494>https://news.ycombinator.com/item?id=7269494</a></td></tr>\n",
       "<tr><td style=\"text-align: right;\">7269489</td><td>Comment    </td><td>Hmm, that sounds like qui...</td><td><a href=https://news.ycombinator.com/item?id=7269489>https://news.ycombinator.com/item?id=7269489</a></td></tr>\n",
       "<tr><td style=\"text-align: right;\">7268211</td><td>Comment    </td><td>You just need enough core...</td><td><a href=https://news.ycombinator.com/item?id=7268211>https://news.ycombinator.com/item?id=7268211</a></td></tr>\n",
       "<tr><td style=\"text-align: right;\">7266280</td><td>Comment    </td><td>Serving 403s to w00tw00ts...</td><td><a href=https://news.ycombinator.com/item?id=7266280>https://news.ycombinator.com/item?id=7266280</a></td></tr>\n",
       "<tr><td style=\"text-align: right;\">7265942</td><td>Comment    </td><td>Things like \"Top 10 ...     </td><td><a href=https://news.ycombinator.com/item?id=7265942>https://news.ycombinator.com/item?id=7265942</a></td></tr>\n",
       "<tr><td style=\"text-align: right;\">7265025</td><td>Comment    </td><td>Right ... websites with t...</td><td><a href=https://news.ycombinator.com/item?id=7265025>https://news.ycombinator.com/item?id=7265025</a></td></tr>\n",
       "<tr><td style=\"text-align: right;\">7264560</td><td>Comment    </td><td>In this case using nginx ...</td><td><a href=https://news.ycombinator.com/item?id=7264560>https://news.ycombinator.com/item?id=7264560</a></td></tr>\n",
       "<tr><td style=\"text-align: right;\">7262931</td><td>Comment    </td><td>I'm not sure I parti...     </td><td><a href=https://news.ycombinator.com/item?id=7262931>https://news.ycombinator.com/item?id=7262931</a></td></tr>\n",
       "<tr><td style=\"text-align: right;\">7262890</td><td>Comment    </td><td>Interestingly, distinguis...</td><td><a href=https://news.ycombinator.com/item?id=7262890>https://news.ycombinator.com/item?id=7262890</a></td></tr>\n",
       "</tbody>\n",
       "</table>"
      ],
      "text/plain": [
       "<IPython.core.display.HTML object>"
      ]
     },
     "metadata": {},
     "output_type": "display_data"
    }
   ],
   "source": [
    "output_results(results, 10)"
   ]
  },
  {
   "cell_type": "markdown",
   "metadata": {},
   "source": [
    "### Filtering by _date_, _points_ or _number of comments_"
   ]
  },
  {
   "cell_type": "markdown",
   "metadata": {},
   "source": [
    "It is also possible to pass different filters to restrain the search by creation date, number of points or comments. Namely, the parameters are:\n",
    "\n",
    "* Creation Date: `created_at`\n",
    "* Points: `points`\n",
    "* Number of comments: `num_comments`\n",
    "\n",
    "They accept `>, <, >=, <=` operators with a syntax similar to Django's:\n",
    "\n",
    "* `lt` (`<`): Lower than. Example `ponts__lt=100`\n",
    "* `lte` (`<=`): Lower than or equals to. Example `ponts__lte=100`\n",
    "* `gt` (`>`): Greater than. Example `created_at__gt='2018'` (created after 2018-01-01).\n",
    "* `gte` (`>=`): Greater than or equals to. Example `num_comments__gte=50`.\n",
    "\n",
    "A few more examples using filters:"
   ]
  },
  {
   "cell_type": "markdown",
   "metadata": {},
   "source": [
    "##### All post types created after October 1st, 2018\n",
    "\n",
    "The filter is `created_at__gt`, `gt` is the `>` operator. The `created_at` filter will try to parse dates automatically (eg: `2018` is interpreted as `2018-01-01`)."
   ]
  },
  {
   "cell_type": "code",
   "execution_count": 32,
   "metadata": {},
   "outputs": [],
   "source": [
    "results = search_by_date(stories=True, created_at__gt='2018-10')"
   ]
  },
  {
   "cell_type": "code",
   "execution_count": 33,
   "metadata": {},
   "outputs": [
    {
     "data": {
      "text/html": [
       "<table>\n",
       "<thead>\n",
       "<tr><th style=\"text-align: right;\">      ID</th><th>Post Type  </th><th>Text                                                                        </th><th>URL                                                                                                    </th></tr>\n",
       "</thead>\n",
       "<tbody>\n",
       "<tr><td style=\"text-align: right;\">18648769</td><td>Story      </td><td>Harvard Quietly Amasses California Vineyards – And the Water Underneath     </td><td><a href=https://news.ycombinator.com/item?id=18648769>https://news.ycombinator.com/item?id=18648769</a></td></tr>\n",
       "<tr><td style=\"text-align: right;\">18648765</td><td>Story      </td><td>How to stop thinking about code after work                                  </td><td><a href=https://news.ycombinator.com/item?id=18648765>https://news.ycombinator.com/item?id=18648765</a></td></tr>\n",
       "<tr><td style=\"text-align: right;\">18648758</td><td>Story      </td><td>Show HN: Stock Market Forecast Based on Most Similar Historical Patterns    </td><td><a href=https://news.ycombinator.com/item?id=18648758>https://news.ycombinator.com/item?id=18648758</a></td></tr>\n",
       "<tr><td style=\"text-align: right;\">18648757</td><td>Story      </td><td>Jack Dorsey, Posting About Myanmar on Twitter, Is Accused of Being Tone Deaf</td><td><a href=https://news.ycombinator.com/item?id=18648757>https://news.ycombinator.com/item?id=18648757</a></td></tr>\n",
       "<tr><td style=\"text-align: right;\">18648756</td><td>Story      </td><td>Show HN: Failory 2.0 – Learn How to Build a Profitable Startup              </td><td><a href=https://news.ycombinator.com/item?id=18648756>https://news.ycombinator.com/item?id=18648756</a></td></tr>\n",
       "<tr><td style=\"text-align: right;\">18648743</td><td>Story      </td><td>Huawei Is China’s Black Mirror Corporation                                  </td><td><a href=https://news.ycombinator.com/item?id=18648743>https://news.ycombinator.com/item?id=18648743</a></td></tr>\n",
       "<tr><td style=\"text-align: right;\">18648742</td><td>Story      </td><td>The Long run developmental effects of Costa Rica’s army abolishment         </td><td><a href=https://news.ycombinator.com/item?id=18648742>https://news.ycombinator.com/item?id=18648742</a></td></tr>\n",
       "<tr><td style=\"text-align: right;\">18648733</td><td>Story      </td><td>The Threat of Pseudoscience in India                                        </td><td><a href=https://news.ycombinator.com/item?id=18648733>https://news.ycombinator.com/item?id=18648733</a></td></tr>\n",
       "<tr><td style=\"text-align: right;\">18648727</td><td>Story      </td><td>There's Only One Way to Pay for a Basic Income                              </td><td><a href=https://news.ycombinator.com/item?id=18648727>https://news.ycombinator.com/item?id=18648727</a></td></tr>\n",
       "<tr><td style=\"text-align: right;\">18648726</td><td>Story      </td><td>Snake your way across your Linux terminal                                   </td><td><a href=https://news.ycombinator.com/item?id=18648726>https://news.ycombinator.com/item?id=18648726</a></td></tr>\n",
       "</tbody>\n",
       "</table>"
      ],
      "text/plain": [
       "<IPython.core.display.HTML object>"
      ]
     },
     "metadata": {},
     "output_type": "display_data"
    }
   ],
   "source": [
    "output_results(results, 10)"
   ]
  },
  {
   "cell_type": "markdown",
   "metadata": {},
   "source": [
    "##### Created after October 1st, 2017 and before January 1st 2018"
   ]
  },
  {
   "cell_type": "code",
   "execution_count": 34,
   "metadata": {},
   "outputs": [],
   "source": [
    "results = search_by_date(stories=True, created_at__gt='2017-10', created_at__lt='2018')"
   ]
  },
  {
   "cell_type": "code",
   "execution_count": 35,
   "metadata": {},
   "outputs": [
    {
     "data": {
      "text/html": [
       "<table>\n",
       "<thead>\n",
       "<tr><th style=\"text-align: right;\">      ID</th><th>Post Type  </th><th>Text                                                                      </th><th>URL                                                                                                    </th></tr>\n",
       "</thead>\n",
       "<tbody>\n",
       "<tr><td style=\"text-align: right;\">16043719</td><td>Story      </td><td>RAM-less Buffers                                                          </td><td><a href=https://news.ycombinator.com/item?id=16043719>https://news.ycombinator.com/item?id=16043719</a></td></tr>\n",
       "<tr><td style=\"text-align: right;\">16043643</td><td>Story      </td><td>Profitable remote job site built with single PHP file (4.5K lines of code)</td><td><a href=https://news.ycombinator.com/item?id=16043643>https://news.ycombinator.com/item?id=16043643</a></td></tr>\n",
       "<tr><td style=\"text-align: right;\">16043612</td><td>Story      </td><td>Subreddit Gender Ratios                                                   </td><td><a href=https://news.ycombinator.com/item?id=16043612>https://news.ycombinator.com/item?id=16043612</a></td></tr>\n",
       "<tr><td style=\"text-align: right;\">16043585</td><td>Story      </td><td>Core Infrastructure Initiative Best Practices Badge                       </td><td><a href=https://news.ycombinator.com/item?id=16043585>https://news.ycombinator.com/item?id=16043585</a></td></tr>\n",
       "<tr><td style=\"text-align: right;\">16043578</td><td>Story      </td><td>IOHIDeous OS X Local Kernel Vulnerability                                 </td><td><a href=https://news.ycombinator.com/item?id=16043578>https://news.ycombinator.com/item?id=16043578</a></td></tr>\n",
       "<tr><td style=\"text-align: right;\">16043561</td><td>Story      </td><td>Dave Barry's 2017 Year in Review                                          </td><td><a href=https://news.ycombinator.com/item?id=16043561>https://news.ycombinator.com/item?id=16043561</a></td></tr>\n",
       "<tr><td style=\"text-align: right;\">16043557</td><td>Story      </td><td>New Year’s Resolutions and the Science of Willpower (2015)                </td><td><a href=https://news.ycombinator.com/item?id=16043557>https://news.ycombinator.com/item?id=16043557</a></td></tr>\n",
       "<tr><td style=\"text-align: right;\">16043554</td><td>Story      </td><td>Top Cryptocurrencies or Altcoins to have in 2018                          </td><td><a href=https://news.ycombinator.com/item?id=16043554>https://news.ycombinator.com/item?id=16043554</a></td></tr>\n",
       "<tr><td style=\"text-align: right;\">16043548</td><td>Story      </td><td>The Google Book                                                           </td><td><a href=https://news.ycombinator.com/item?id=16043548>https://news.ycombinator.com/item?id=16043548</a></td></tr>\n",
       "<tr><td style=\"text-align: right;\">16043542</td><td>Story      </td><td>AI and Deep Learning in 2017 – A Year in Review                           </td><td><a href=https://news.ycombinator.com/item?id=16043542>https://news.ycombinator.com/item?id=16043542</a></td></tr>\n",
       "</tbody>\n",
       "</table>"
      ],
      "text/plain": [
       "<IPython.core.display.HTML object>"
      ]
     },
     "metadata": {},
     "output_type": "display_data"
    }
   ],
   "source": [
    "output_results(results, 10)"
   ]
  },
  {
   "cell_type": "markdown",
   "metadata": {},
   "source": [
    "##### A few more examples:"
   ]
  },
  {
   "cell_type": "code",
   "execution_count": 36,
   "metadata": {},
   "outputs": [],
   "source": [
    "# Stories with *exactly* 1000 points\n",
    "results = search_by_date(stories=True, points=1000)"
   ]
  },
  {
   "cell_type": "code",
   "execution_count": 37,
   "metadata": {},
   "outputs": [
    {
     "data": {
      "text/html": [
       "<table>\n",
       "<thead>\n",
       "<tr><th style=\"text-align: right;\">      ID</th><th>Post Type  </th><th>Text                               </th><th>URL                                                                                                    </th></tr>\n",
       "</thead>\n",
       "<tbody>\n",
       "<tr><td style=\"text-align: right;\">14090063</td><td>Story      </td><td>IndieHackers.com acquired by Stripe</td><td><a href=https://news.ycombinator.com/item?id=14090063>https://news.ycombinator.com/item?id=14090063</a></td></tr>\n",
       "<tr><td style=\"text-align: right;\">13489156</td><td>Story      </td><td>First they came for the Iranians   </td><td><a href=https://news.ycombinator.com/item?id=13489156>https://news.ycombinator.com/item?id=13489156</a></td></tr>\n",
       "</tbody>\n",
       "</table>"
      ],
      "text/plain": [
       "<IPython.core.display.HTML object>"
      ]
     },
     "metadata": {},
     "output_type": "display_data"
    }
   ],
   "source": [
    "output_results(results, 10)"
   ]
  },
  {
   "cell_type": "code",
   "execution_count": 38,
   "metadata": {},
   "outputs": [],
   "source": [
    "# Stories including \"Python\" with more than 1000 points\n",
    "results = search_by_date('python', stories=True, points__gt=1000)"
   ]
  },
  {
   "cell_type": "code",
   "execution_count": 39,
   "metadata": {},
   "outputs": [
    {
     "data": {
      "text/html": [
       "<table>\n",
       "<thead>\n",
       "<tr><th style=\"text-align: right;\">      ID</th><th>Post Type  </th><th>Text                                                              </th><th>URL                                                                                                    </th></tr>\n",
       "</thead>\n",
       "<tbody>\n",
       "<tr><td style=\"text-align: right;\">17515492</td><td>Story      </td><td>“I'm basically giving myself a permanent vacation from being BDFL”</td><td><a href=https://news.ycombinator.com/item?id=17515492>https://news.ycombinator.com/item?id=17515492</a></td></tr>\n",
       "<tr><td style=\"text-align: right;\">13319904</td><td>Story      </td><td>Grumpy: Go running Python                                         </td><td><a href=https://news.ycombinator.com/item?id=13319904>https://news.ycombinator.com/item?id=13319904</a></td></tr>\n",
       "</tbody>\n",
       "</table>"
      ],
      "text/plain": [
       "<IPython.core.display.HTML object>"
      ]
     },
     "metadata": {},
     "output_type": "display_data"
    }
   ],
   "source": [
    "output_results(results, 10)"
   ]
  },
  {
   "cell_type": "code",
   "execution_count": 40,
   "metadata": {},
   "outputs": [],
   "source": [
    "# Comments with more than 50 points\n",
    "results = search_by_date('python', comments=True, points__gt=50)"
   ]
  },
  {
   "cell_type": "code",
   "execution_count": 41,
   "metadata": {},
   "outputs": [
    {
     "data": {
      "text/html": [
       "<table>\n",
       "<thead>\n",
       "<tr><th style=\"text-align: right;\">     ID</th><th>Post Type  </th><th>Text                        </th><th>URL                                                                                                  </th></tr>\n",
       "</thead>\n",
       "<tbody>\n",
       "<tr><td style=\"text-align: right;\">8374713</td><td>Comment    </td><td>The older I get, the more...</td><td><a href=https://news.ycombinator.com/item?id=8374713>https://news.ycombinator.com/item?id=8374713</a></td></tr>\n",
       "<tr><td style=\"text-align: right;\">8167733</td><td>Comment    </td><td>The idea that Python is s...</td><td><a href=https://news.ycombinator.com/item?id=8167733>https://news.ycombinator.com/item?id=8167733</a></td></tr>\n",
       "<tr><td style=\"text-align: right;\">8070592</td><td>Comment    </td><td>I really think the future...</td><td><a href=https://news.ycombinator.com/item?id=8070592>https://news.ycombinator.com/item?id=8070592</a></td></tr>\n",
       "<tr><td style=\"text-align: right;\">8002089</td><td>Comment    </td><td>I work at Monash Universi...</td><td><a href=https://news.ycombinator.com/item?id=8002089>https://news.ycombinator.com/item?id=8002089</a></td></tr>\n",
       "<tr><td style=\"text-align: right;\">7923883</td><td>Comment    </td><td>So I've finally been...     </td><td><a href=https://news.ycombinator.com/item?id=7923883>https://news.ycombinator.com/item?id=7923883</a></td></tr>\n",
       "<tr><td style=\"text-align: right;\">7802095</td><td>Comment    </td><td>That pretty much reiterat...</td><td><a href=https://news.ycombinator.com/item?id=7802095>https://news.ycombinator.com/item?id=7802095</a></td></tr>\n",
       "<tr><td style=\"text-align: right;\">7799923</td><td>Comment    </td><td>I doubt the lazy people w...</td><td><a href=https://news.ycombinator.com/item?id=7799923>https://news.ycombinator.com/item?id=7799923</a></td></tr>\n",
       "<tr><td style=\"text-align: right;\">7733529</td><td>Comment    </td><td>The key to fast startup d...</td><td><a href=https://news.ycombinator.com/item?id=7733529>https://news.ycombinator.com/item?id=7733529</a></td></tr>\n",
       "<tr><td style=\"text-align: right;\">7733148</td><td>Comment    </td><td>Having written a bunch of...</td><td><a href=https://news.ycombinator.com/item?id=7733148>https://news.ycombinator.com/item?id=7733148</a></td></tr>\n",
       "<tr><td style=\"text-align: right;\">7716040</td><td>Comment    </td><td>This is a pretty good lis...</td><td><a href=https://news.ycombinator.com/item?id=7716040>https://news.ycombinator.com/item?id=7716040</a></td></tr>\n",
       "</tbody>\n",
       "</table>"
      ],
      "text/plain": [
       "<IPython.core.display.HTML object>"
      ]
     },
     "metadata": {},
     "output_type": "display_data"
    }
   ],
   "source": [
    "output_results(results, 10)"
   ]
  },
  {
   "cell_type": "code",
   "execution_count": 42,
   "metadata": {},
   "outputs": [],
   "source": [
    "# Stories with 100 comments or more\n",
    "results = search_by_date(stories=True, num_comments__gt=100)"
   ]
  },
  {
   "cell_type": "code",
   "execution_count": 43,
   "metadata": {},
   "outputs": [
    {
     "data": {
      "text/html": [
       "<table>\n",
       "<thead>\n",
       "<tr><th style=\"text-align: right;\">      ID</th><th>Post Type  </th><th>Text                                                                     </th><th>URL                                                                                                    </th></tr>\n",
       "</thead>\n",
       "<tbody>\n",
       "<tr><td style=\"text-align: right;\">18645269</td><td>Story      </td><td>Netflix’s biggest competition isn’t sleep, it’s YouTube                  </td><td><a href=https://news.ycombinator.com/item?id=18645269>https://news.ycombinator.com/item?id=18645269</a></td></tr>\n",
       "<tr><td style=\"text-align: right;\">18644590</td><td>Story      </td><td>LED Strain                                                               </td><td><a href=https://news.ycombinator.com/item?id=18644590>https://news.ycombinator.com/item?id=18644590</a></td></tr>\n",
       "<tr><td style=\"text-align: right;\">18644489</td><td>Story      </td><td>Why Not to Use Quora                                                     </td><td><a href=https://news.ycombinator.com/item?id=18644489>https://news.ycombinator.com/item?id=18644489</a></td></tr>\n",
       "<tr><td style=\"text-align: right;\">18643427</td><td>Story      </td><td>Why Aren’t Rich People Happy With the Money They Have?                   </td><td><a href=https://news.ycombinator.com/item?id=18643427>https://news.ycombinator.com/item?id=18643427</a></td></tr>\n",
       "<tr><td style=\"text-align: right;\">18642635</td><td>Story      </td><td>Coinbase is exploring the addition of new currencies                     </td><td><a href=https://news.ycombinator.com/item?id=18642635>https://news.ycombinator.com/item?id=18642635</a></td></tr>\n",
       "<tr><td style=\"text-align: right;\">18642427</td><td>Story      </td><td>Group led by Thomas Piketty presents plan for ‘a fairer Europe’          </td><td><a href=https://news.ycombinator.com/item?id=18642427>https://news.ycombinator.com/item?id=18642427</a></td></tr>\n",
       "<tr><td style=\"text-align: right;\">18642336</td><td>Story      </td><td>JIRA is an antipattern                                                   </td><td><a href=https://news.ycombinator.com/item?id=18642336>https://news.ycombinator.com/item?id=18642336</a></td></tr>\n",
       "<tr><td style=\"text-align: right;\">18640880</td><td>Story      </td><td>Show HN: Visalist – Find visa requirements for countries around the world</td><td><a href=https://news.ycombinator.com/item?id=18640880>https://news.ycombinator.com/item?id=18640880</a></td></tr>\n",
       "<tr><td style=\"text-align: right;\">18640755</td><td>Story      </td><td>Crypto Market Crash Leaving Bankrupt Startups in Its Wake                </td><td><a href=https://news.ycombinator.com/item?id=18640755>https://news.ycombinator.com/item?id=18640755</a></td></tr>\n",
       "<tr><td style=\"text-align: right;\">18640136</td><td>Story      </td><td>Do I really need to get out the soldering-iron again?                    </td><td><a href=https://news.ycombinator.com/item?id=18640136>https://news.ycombinator.com/item?id=18640136</a></td></tr>\n",
       "</tbody>\n",
       "</table>"
      ],
      "text/plain": [
       "<IPython.core.display.HTML object>"
      ]
     },
     "metadata": {},
     "output_type": "display_data"
    }
   ],
   "source": [
    "output_results(results, 10)"
   ]
  }
 ],
 "metadata": {
  "kernelspec": {
   "display_name": "Python 3",
   "language": "python",
   "name": "python3"
  },
  "language_info": {
   "codemirror_mode": {
    "name": "ipython",
    "version": 3
   },
   "file_extension": ".py",
   "mimetype": "text/x-python",
   "name": "python",
   "nbconvert_exporter": "python",
   "pygments_lexer": "ipython3",
   "version": "3.6.5"
  }
 },
 "nbformat": 4,
 "nbformat_minor": 2
}
